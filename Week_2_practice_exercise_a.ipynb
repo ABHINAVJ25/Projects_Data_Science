{
 "cells": [
  {
   "cell_type": "code",
   "execution_count": 1,
   "id": "648cccb8",
   "metadata": {},
   "outputs": [],
   "source": [
    "import numpy as np\n",
    "import pandas as pd"
   ]
  },
  {
   "cell_type": "code",
   "execution_count": 2,
   "id": "05b74d1b",
   "metadata": {},
   "outputs": [
    {
     "data": {
      "text/plain": [
       "array([8., 8., 8., 8., 8., 8., 8., 8.])"
      ]
     },
     "execution_count": 2,
     "metadata": {},
     "output_type": "execute_result"
    }
   ],
   "source": [
    "# Q1. Create an array of 8 eights\n",
    "\n",
    "np.ones(8)*8"
   ]
  },
  {
   "cell_type": "code",
   "execution_count": 3,
   "id": "02e7b939",
   "metadata": {},
   "outputs": [
    {
     "data": {
      "text/plain": [
       "array([10, 11, 12, 13, 14, 15, 16, 17, 18, 19, 20, 21, 22, 23, 24, 25, 26,\n",
       "       27, 28, 29, 30, 31, 32, 33, 34, 35, 36, 37, 38, 39, 40, 41, 42, 43,\n",
       "       44, 45, 46, 47, 48, 49])"
      ]
     },
     "execution_count": 3,
     "metadata": {},
     "output_type": "execute_result"
    }
   ],
   "source": [
    "# Q2. Create an array of the integers from 10 to 50\n",
    "\n",
    "arr = np.arange(10, 50)\n",
    "arr"
   ]
  },
  {
   "cell_type": "code",
   "execution_count": 4,
   "id": "dde8fa7e",
   "metadata": {},
   "outputs": [
    {
     "data": {
      "text/plain": [
       "array([[10, 11, 12, 13, 14],\n",
       "       [15, 16, 17, 18, 19],\n",
       "       [20, 21, 22, 23, 24],\n",
       "       [25, 26, 27, 28, 29],\n",
       "       [30, 31, 32, 33, 34],\n",
       "       [35, 36, 37, 38, 39],\n",
       "       [40, 41, 42, 43, 44],\n",
       "       [45, 46, 47, 48, 49]])"
      ]
     },
     "execution_count": 4,
     "metadata": {},
     "output_type": "execute_result"
    }
   ],
   "source": [
    "# a it is not reshaped so i want to reshape it\n",
    "arr = np.arange(10, 50).reshape(8, 5)\n",
    "arr"
   ]
  },
  {
   "cell_type": "code",
   "execution_count": 5,
   "id": "a484d664",
   "metadata": {},
   "outputs": [
    {
     "data": {
      "text/plain": [
       "array([[22, 23, 24],\n",
       "       [25, 26, 27],\n",
       "       [28, 29, 30]])"
      ]
     },
     "execution_count": 5,
     "metadata": {},
     "output_type": "execute_result"
    }
   ],
   "source": [
    "# Q3. Create a 3x3 matrix with values ranging from 22 to 30\n",
    "\n",
    "arr2 = np.arange(22,31).reshape(3, 3)\n",
    "arr2"
   ]
  },
  {
   "cell_type": "markdown",
   "id": "e38adee5",
   "metadata": {},
   "source": [
    "# use arr3 for the below indexing questions such as q4 and q5"
   ]
  },
  {
   "cell_type": "code",
   "execution_count": 6,
   "id": "68ad1285",
   "metadata": {},
   "outputs": [
    {
     "data": {
      "text/plain": [
       "array([[26, 27, 28, 29, 30],\n",
       "       [31, 32, 33, 34, 35],\n",
       "       [36, 37, 38, 39, 40],\n",
       "       [41, 42, 43, 44, 45],\n",
       "       [46, 47, 48, 49, 50]])"
      ]
     },
     "execution_count": 6,
     "metadata": {},
     "output_type": "execute_result"
    }
   ],
   "source": [
    "arr3 = np.arange(26,51).reshape(5,5)\n",
    "arr3\n",
    "# array([[26, 27, 28, 29, 30],\n",
    "#        [31, 32, 33, 34, 35],\n",
    "#        [36, 37, 38, 39, 40],\n",
    "#        [41, 42, 43, 44, 45],\n",
    "#        [46, 47, 48, 49, 50]])\n"
   ]
  },
  {
   "cell_type": "code",
   "execution_count": 7,
   "id": "db1bf5a5",
   "metadata": {},
   "outputs": [
    {
     "data": {
      "text/plain": [
       "array([[37, 38, 39, 40],\n",
       "       [42, 43, 44, 45],\n",
       "       [47, 48, 49, 50]])"
      ]
     },
     "execution_count": 7,
     "metadata": {},
     "output_type": "execute_result"
    }
   ],
   "source": [
    "#  Q4. Use indexing on arr3 to get below output\n",
    "#    [[37, 38, 39, 40],\n",
    "#    [42, 43, 44, 45],\n",
    "#    [47, 48, 49, 50]]\n",
    "\n",
    "arr3[2:, 1:] # (rows, column)"
   ]
  },
  {
   "cell_type": "code",
   "execution_count": 8,
   "id": "5b9cc32c",
   "metadata": {},
   "outputs": [
    {
     "data": {
      "text/plain": [
       "array([[50]])"
      ]
     },
     "execution_count": 8,
     "metadata": {},
     "output_type": "execute_result"
    }
   ],
   "source": [
    "# Q5. Use indexing on arr3 to get below output\n",
    "# Output should be 50\n",
    "\n",
    "arr3[4:, 4:]\n",
    "# print(a)"
   ]
  },
  {
   "cell_type": "code",
   "execution_count": 9,
   "id": "c0f4f9d6",
   "metadata": {},
   "outputs": [
    {
     "data": {
      "text/plain": [
       "array([[27],\n",
       "       [32],\n",
       "       [37]])"
      ]
     },
     "execution_count": 9,
     "metadata": {},
     "output_type": "execute_result"
    }
   ],
   "source": [
    "# Q6. Use indexing on arr3 to get below output\n",
    "#   [[27], --> (0,1)\n",
    "#    [32], -->  (1,1)\n",
    "#    [37]]  --> (2,1)\n",
    "\n",
    "arr3[0:3, 1:2]"
   ]
  },
  {
   "cell_type": "code",
   "execution_count": 10,
   "id": "4481e920",
   "metadata": {},
   "outputs": [
    {
     "data": {
      "text/plain": [
       "array([[46, 47, 48, 49, 50]])"
      ]
     },
     "execution_count": 10,
     "metadata": {},
     "output_type": "execute_result"
    }
   ],
   "source": [
    "# Q7. Use indexing on arr to get below output\n",
    "#   [46, 47, 48, 49, 50]\n",
    "    \n",
    "arr3[4:,]"
   ]
  },
  {
   "cell_type": "code",
   "execution_count": 11,
   "id": "89fca5fb",
   "metadata": {},
   "outputs": [
    {
     "data": {
      "text/plain": [
       "array([[41, 42, 43, 44, 45],\n",
       "       [46, 47, 48, 49, 50]])"
      ]
     },
     "execution_count": 11,
     "metadata": {},
     "output_type": "execute_result"
    }
   ],
   "source": [
    "# Q8. Use indexing on arr to get below output\n",
    "#  [[41, 42, 43, 44, 45],\n",
    "#    [46, 47, 48, 49, 50]]\n",
    "\n",
    "arr3[3:]"
   ]
  },
  {
   "cell_type": "code",
   "execution_count": 12,
   "id": "63ca21dd",
   "metadata": {},
   "outputs": [
    {
     "data": {
      "text/plain": [
       "array([[10, 11, 12, 13, 14],\n",
       "       [15, 16, 17, 18, 19],\n",
       "       [20, 21, 22, 23, 24],\n",
       "       [25, 26, 27, 28, 29],\n",
       "       [30, 31, 32, 33, 34],\n",
       "       [35, 36, 37, 38, 39]])"
      ]
     },
     "execution_count": 12,
     "metadata": {},
     "output_type": "execute_result"
    }
   ],
   "source": [
    "# Q9. Find the sum of all the values in given array 'arr4'\n",
    "arr4 = np.arange(10,40).reshape(6,5)\n",
    "arr4"
   ]
  },
  {
   "cell_type": "code",
   "execution_count": 13,
   "id": "075eb5c1",
   "metadata": {},
   "outputs": [
    {
     "data": {
      "text/plain": [
       "735"
      ]
     },
     "execution_count": 13,
     "metadata": {},
     "output_type": "execute_result"
    }
   ],
   "source": [
    "np.sum(arr4)"
   ]
  },
  {
   "cell_type": "code",
   "execution_count": 14,
   "id": "91aa7af6",
   "metadata": {},
   "outputs": [
    {
     "data": {
      "text/plain": [
       "8.65544144839919"
      ]
     },
     "execution_count": 14,
     "metadata": {},
     "output_type": "execute_result"
    }
   ],
   "source": [
    "# Q10. Find the standard deviation of the values in given array 'arr4'\n",
    "np.std(arr4)"
   ]
  },
  {
   "cell_type": "code",
   "execution_count": 15,
   "id": "8c0f6901",
   "metadata": {},
   "outputs": [
    {
     "data": {
      "text/plain": [
       "24.5"
      ]
     },
     "execution_count": 15,
     "metadata": {},
     "output_type": "execute_result"
    }
   ],
   "source": [
    "# Q10. Find the mean of the values in given array 'arr4'\n",
    "np.mean(arr4)"
   ]
  },
  {
   "cell_type": "markdown",
   "id": "da4758d3",
   "metadata": {},
   "source": [
    "## now we will practice Pandas "
   ]
  },
  {
   "cell_type": "code",
   "execution_count": 16,
   "id": "1a587911",
   "metadata": {},
   "outputs": [],
   "source": [
    "df = pd.read_csv(\"sales.csv\")"
   ]
  },
  {
   "cell_type": "code",
   "execution_count": 17,
   "id": "6bf0aeb0",
   "metadata": {},
   "outputs": [
    {
     "name": "stdout",
     "output_type": "stream",
     "text": [
      "     Observation  Dist_Taxi  Dist_Market  Dist_Metro  Store_Area  \\\n",
      "0              1     9796.0       5250.0     10703.0      1659.0   \n",
      "1              2     8294.0       8186.0     12694.0      1461.0   \n",
      "2              3    11001.0      14399.0     16991.0      1340.0   \n",
      "3              4     8301.0      11188.0     12289.0      1451.0   \n",
      "4              5    10510.0      12629.0     13921.0      1770.0   \n",
      "..           ...        ...          ...         ...         ...   \n",
      "927          928    12176.0       8518.0     15673.0      1582.0   \n",
      "928          929     7214.0       8717.0     10553.0      1387.0   \n",
      "929          930     7423.0      11708.0     13220.0      1200.0   \n",
      "930          931    15082.0      14700.0     19617.0      1299.0   \n",
      "931          932     9297.0      12537.0     14418.0      1174.0   \n",
      "\n",
      "     Items_Available       Parking Coupon_Category  Daily_Customer_Count  \\\n",
      "0             1961.0          Open           CAT B                   530   \n",
      "1             1752.0  Not Provided           CAT B                   210   \n",
      "2             1609.0  Not Provided           CAT A                   720   \n",
      "3             1748.0       Covered           CAT B                   620   \n",
      "4             2111.0  Not Provided           CAT B                   450   \n",
      "..               ...           ...             ...                   ...   \n",
      "927           1910.0       Covered           CAT C                  1080   \n",
      "928           1663.0          Open           CAT A                   850   \n",
      "929           1436.0          Open           CAT A                  1060   \n",
      "930           1560.0          Open           CAT B                   770   \n",
      "931           1429.0       Covered           CAT C                  1110   \n",
      "\n",
      "     Store_Sales  \n",
      "0          66490  \n",
      "1          39820  \n",
      "2          54010  \n",
      "3          53730  \n",
      "4          46620  \n",
      "..           ...  \n",
      "927        66390  \n",
      "928        82080  \n",
      "929        76440  \n",
      "930        96610  \n",
      "931        54340  \n",
      "\n",
      "[932 rows x 10 columns]\n"
     ]
    }
   ],
   "source": [
    "print(df)"
   ]
  },
  {
   "cell_type": "code",
   "execution_count": 18,
   "id": "d805841f",
   "metadata": {},
   "outputs": [
    {
     "data": {
      "text/plain": [
       "array(['Open', 'Not Provided', 'Covered', 'No Parking'], dtype=object)"
      ]
     },
     "execution_count": 18,
     "metadata": {},
     "output_type": "execute_result"
    }
   ],
   "source": [
    "# Q1. What are the unique values in the column \"Parking\"?\n",
    "# SYNTAX --> df['column_name'].unique()\n",
    "\n",
    "df['Parking'].unique()"
   ]
  },
  {
   "cell_type": "code",
   "execution_count": 19,
   "id": "2fe709ee",
   "metadata": {},
   "outputs": [
    {
     "data": {
      "text/plain": [
       "1511.862554112554"
      ]
     },
     "execution_count": 19,
     "metadata": {},
     "output_type": "execute_result"
    }
   ],
   "source": [
    "# Q2. What is the mean store area of the given data?\n",
    "\n",
    "df['Store_Area'].mean()"
   ]
  },
  {
   "cell_type": "code",
   "execution_count": 20,
   "id": "d4fae491",
   "metadata": {},
   "outputs": [
    {
     "data": {
      "text/plain": [
       "Index(['Observation', 'Dist_Taxi', 'Dist_Market', 'Dist_Metro', 'Store_Area',\n",
       "       'Items_Available', 'Parking', 'Coupon_Category', 'Daily_Customer_Count',\n",
       "       'Store_Sales'],\n",
       "      dtype='object')"
      ]
     },
     "execution_count": 20,
     "metadata": {},
     "output_type": "execute_result"
    }
   ],
   "source": [
    "# Q3. What are the different columns available in the dataset?\n",
    "\n",
    "df.columns"
   ]
  },
  {
   "cell_type": "code",
   "execution_count": 21,
   "id": "d097c6f7",
   "metadata": {},
   "outputs": [
    {
     "data": {
      "text/plain": [
       "Observation                        3\n",
       "Dist_Taxi                    11001.0\n",
       "Dist_Market                  14399.0\n",
       "Dist_Metro                   16991.0\n",
       "Store_Area                    1340.0\n",
       "Items_Available               1609.0\n",
       "Parking                 Not Provided\n",
       "Coupon_Category                CAT A\n",
       "Daily_Customer_Count             720\n",
       "Store_Sales                    54010\n",
       "Name: 2, dtype: object"
      ]
     },
     "execution_count": 21,
     "metadata": {},
     "output_type": "execute_result"
    }
   ],
   "source": [
    "# Q4. Create a new series (series1) with only the values of third row\n",
    "# df.iloc[row_index]\n",
    "\n",
    "df.iloc[2]"
   ]
  },
  {
   "cell_type": "code",
   "execution_count": 22,
   "id": "d5c36d15",
   "metadata": {},
   "outputs": [
    {
     "data": {
      "text/html": [
       "<div>\n",
       "<style scoped>\n",
       "    .dataframe tbody tr th:only-of-type {\n",
       "        vertical-align: middle;\n",
       "    }\n",
       "\n",
       "    .dataframe tbody tr th {\n",
       "        vertical-align: top;\n",
       "    }\n",
       "\n",
       "    .dataframe thead th {\n",
       "        text-align: right;\n",
       "    }\n",
       "</style>\n",
       "<table border=\"1\" class=\"dataframe\">\n",
       "  <thead>\n",
       "    <tr style=\"text-align: right;\">\n",
       "      <th></th>\n",
       "      <th>Coupon_Category</th>\n",
       "      <th>Store_Sales</th>\n",
       "    </tr>\n",
       "  </thead>\n",
       "  <tbody>\n",
       "    <tr>\n",
       "      <th>0</th>\n",
       "      <td>CAT B</td>\n",
       "      <td>66490</td>\n",
       "    </tr>\n",
       "    <tr>\n",
       "      <th>1</th>\n",
       "      <td>CAT B</td>\n",
       "      <td>39820</td>\n",
       "    </tr>\n",
       "    <tr>\n",
       "      <th>2</th>\n",
       "      <td>CAT A</td>\n",
       "      <td>54010</td>\n",
       "    </tr>\n",
       "    <tr>\n",
       "      <th>3</th>\n",
       "      <td>CAT B</td>\n",
       "      <td>53730</td>\n",
       "    </tr>\n",
       "    <tr>\n",
       "      <th>4</th>\n",
       "      <td>CAT B</td>\n",
       "      <td>46620</td>\n",
       "    </tr>\n",
       "  </tbody>\n",
       "</table>\n",
       "</div>"
      ],
      "text/plain": [
       "  Coupon_Category  Store_Sales\n",
       "0           CAT B        66490\n",
       "1           CAT B        39820\n",
       "2           CAT A        54010\n",
       "3           CAT B        53730\n",
       "4           CAT B        46620"
      ]
     },
     "execution_count": 22,
     "metadata": {},
     "output_type": "execute_result"
    }
   ],
   "source": [
    "# Q5. Create a new dataframe(df_short which contain first 5 rows and two columns(\"Coupon_Category\" and \"Store_Sales\")\n",
    "\n",
    "df_short=df.loc[[0,1,2,3,4],[\"Coupon_Category\",\"Store_Sales\"]]\n",
    "df_short"
   ]
  },
  {
   "cell_type": "code",
   "execution_count": 23,
   "id": "21da4c20",
   "metadata": {},
   "outputs": [
    {
     "data": {
      "text/html": [
       "<div>\n",
       "<style scoped>\n",
       "    .dataframe tbody tr th:only-of-type {\n",
       "        vertical-align: middle;\n",
       "    }\n",
       "\n",
       "    .dataframe tbody tr th {\n",
       "        vertical-align: top;\n",
       "    }\n",
       "\n",
       "    .dataframe thead th {\n",
       "        text-align: right;\n",
       "    }\n",
       "</style>\n",
       "<table border=\"1\" class=\"dataframe\">\n",
       "  <thead>\n",
       "    <tr style=\"text-align: right;\">\n",
       "      <th></th>\n",
       "      <th>Coupon_Category</th>\n",
       "      <th>Store_Sales</th>\n",
       "    </tr>\n",
       "  </thead>\n",
       "  <tbody>\n",
       "    <tr>\n",
       "      <th>0</th>\n",
       "      <td>CAT B</td>\n",
       "      <td>66490</td>\n",
       "    </tr>\n",
       "    <tr>\n",
       "      <th>1</th>\n",
       "      <td>CAT B</td>\n",
       "      <td>39820</td>\n",
       "    </tr>\n",
       "    <tr>\n",
       "      <th>2</th>\n",
       "      <td>CAT A</td>\n",
       "      <td>54010</td>\n",
       "    </tr>\n",
       "    <tr>\n",
       "      <th>3</th>\n",
       "      <td>CAT B</td>\n",
       "      <td>53730</td>\n",
       "    </tr>\n",
       "    <tr>\n",
       "      <th>4</th>\n",
       "      <td>CAT B</td>\n",
       "      <td>46620</td>\n",
       "    </tr>\n",
       "  </tbody>\n",
       "</table>\n",
       "</div>"
      ],
      "text/plain": [
       "  Coupon_Category  Store_Sales\n",
       "0           CAT B        66490\n",
       "1           CAT B        39820\n",
       "2           CAT A        54010\n",
       "3           CAT B        53730\n",
       "4           CAT B        46620"
      ]
     },
     "execution_count": 23,
     "metadata": {},
     "output_type": "execute_result"
    }
   ],
   "source": [
    "# Q5 also be done as or presented as\n",
    "\n",
    "\n",
    "df.head(5)[[\"Coupon_Category\",\"Store_Sales\"]]"
   ]
  },
  {
   "cell_type": "code",
   "execution_count": 24,
   "id": "c8ae25b3",
   "metadata": {},
   "outputs": [
    {
     "data": {
      "text/html": [
       "<div>\n",
       "<style scoped>\n",
       "    .dataframe tbody tr th:only-of-type {\n",
       "        vertical-align: middle;\n",
       "    }\n",
       "\n",
       "    .dataframe tbody tr th {\n",
       "        vertical-align: top;\n",
       "    }\n",
       "\n",
       "    .dataframe thead th {\n",
       "        text-align: right;\n",
       "    }\n",
       "</style>\n",
       "<table border=\"1\" class=\"dataframe\">\n",
       "  <thead>\n",
       "    <tr style=\"text-align: right;\">\n",
       "      <th></th>\n",
       "      <th>Coupon_Category</th>\n",
       "      <th>Store_Sales</th>\n",
       "      <th>Names</th>\n",
       "    </tr>\n",
       "  </thead>\n",
       "  <tbody>\n",
       "    <tr>\n",
       "      <th>0</th>\n",
       "      <td>CAT B</td>\n",
       "      <td>66490</td>\n",
       "      <td>First_row</td>\n",
       "    </tr>\n",
       "    <tr>\n",
       "      <th>1</th>\n",
       "      <td>CAT B</td>\n",
       "      <td>39820</td>\n",
       "      <td>Second_row</td>\n",
       "    </tr>\n",
       "    <tr>\n",
       "      <th>2</th>\n",
       "      <td>CAT A</td>\n",
       "      <td>54010</td>\n",
       "      <td>Third_row</td>\n",
       "    </tr>\n",
       "    <tr>\n",
       "      <th>3</th>\n",
       "      <td>CAT B</td>\n",
       "      <td>53730</td>\n",
       "      <td>forth_row</td>\n",
       "    </tr>\n",
       "    <tr>\n",
       "      <th>4</th>\n",
       "      <td>CAT B</td>\n",
       "      <td>46620</td>\n",
       "      <td>fifth_row</td>\n",
       "    </tr>\n",
       "  </tbody>\n",
       "</table>\n",
       "</div>"
      ],
      "text/plain": [
       "  Coupon_Category  Store_Sales       Names\n",
       "0           CAT B        66490   First_row\n",
       "1           CAT B        39820  Second_row\n",
       "2           CAT A        54010   Third_row\n",
       "3           CAT B        53730   forth_row\n",
       "4           CAT B        46620   fifth_row"
      ]
     },
     "execution_count": 24,
     "metadata": {},
     "output_type": "execute_result"
    }
   ],
   "source": [
    "# Q6. In dataframe df_short, replace the index with [\"First Row\",\"Second Row\",\"Third Row\", \"Forth Row\", \"Fifth Row\"]\n",
    "\n",
    "df_short[\"Names\"] = [\"First_row\", \"Second_row\", \"Third_row\", \"forth_row\", \"fifth_row\"]\n",
    "df_short"
   ]
  },
  {
   "cell_type": "code",
   "execution_count": 25,
   "id": "3c531533",
   "metadata": {},
   "outputs": [
    {
     "data": {
      "text/html": [
       "<div>\n",
       "<style scoped>\n",
       "    .dataframe tbody tr th:only-of-type {\n",
       "        vertical-align: middle;\n",
       "    }\n",
       "\n",
       "    .dataframe tbody tr th {\n",
       "        vertical-align: top;\n",
       "    }\n",
       "\n",
       "    .dataframe thead th {\n",
       "        text-align: right;\n",
       "    }\n",
       "</style>\n",
       "<table border=\"1\" class=\"dataframe\">\n",
       "  <thead>\n",
       "    <tr style=\"text-align: right;\">\n",
       "      <th></th>\n",
       "      <th>Coupon_Category</th>\n",
       "      <th>Store_Sales</th>\n",
       "    </tr>\n",
       "    <tr>\n",
       "      <th>Names</th>\n",
       "      <th></th>\n",
       "      <th></th>\n",
       "    </tr>\n",
       "  </thead>\n",
       "  <tbody>\n",
       "    <tr>\n",
       "      <th>First_row</th>\n",
       "      <td>CAT B</td>\n",
       "      <td>66490</td>\n",
       "    </tr>\n",
       "    <tr>\n",
       "      <th>Second_row</th>\n",
       "      <td>CAT B</td>\n",
       "      <td>39820</td>\n",
       "    </tr>\n",
       "    <tr>\n",
       "      <th>Third_row</th>\n",
       "      <td>CAT A</td>\n",
       "      <td>54010</td>\n",
       "    </tr>\n",
       "    <tr>\n",
       "      <th>forth_row</th>\n",
       "      <td>CAT B</td>\n",
       "      <td>53730</td>\n",
       "    </tr>\n",
       "    <tr>\n",
       "      <th>fifth_row</th>\n",
       "      <td>CAT B</td>\n",
       "      <td>46620</td>\n",
       "    </tr>\n",
       "  </tbody>\n",
       "</table>\n",
       "</div>"
      ],
      "text/plain": [
       "           Coupon_Category  Store_Sales\n",
       "Names                                  \n",
       "First_row            CAT B        66490\n",
       "Second_row           CAT B        39820\n",
       "Third_row            CAT A        54010\n",
       "forth_row            CAT B        53730\n",
       "fifth_row            CAT B        46620"
      ]
     },
     "execution_count": 25,
     "metadata": {},
     "output_type": "execute_result"
    }
   ],
   "source": [
    "df_short.set_index(\"Names\", inplace = True)\n",
    "df_short"
   ]
  },
  {
   "cell_type": "code",
   "execution_count": 26,
   "id": "c94f5e15",
   "metadata": {},
   "outputs": [
    {
     "data": {
      "text/html": [
       "<div>\n",
       "<style scoped>\n",
       "    .dataframe tbody tr th:only-of-type {\n",
       "        vertical-align: middle;\n",
       "    }\n",
       "\n",
       "    .dataframe tbody tr th {\n",
       "        vertical-align: top;\n",
       "    }\n",
       "\n",
       "    .dataframe thead th {\n",
       "        text-align: right;\n",
       "    }\n",
       "</style>\n",
       "<table border=\"1\" class=\"dataframe\">\n",
       "  <thead>\n",
       "    <tr style=\"text-align: right;\">\n",
       "      <th></th>\n",
       "      <th>Observation</th>\n",
       "      <th>Dist_Taxi</th>\n",
       "      <th>Dist_Market</th>\n",
       "      <th>Dist_Metro</th>\n",
       "      <th>Store_Area</th>\n",
       "      <th>Items_Available</th>\n",
       "      <th>Parking</th>\n",
       "      <th>Coupon_Category</th>\n",
       "      <th>Daily_Customer_Count</th>\n",
       "      <th>Store_Sales</th>\n",
       "    </tr>\n",
       "  </thead>\n",
       "  <tbody>\n",
       "  </tbody>\n",
       "</table>\n",
       "</div>"
      ],
      "text/plain": [
       "Empty DataFrame\n",
       "Columns: [Observation, Dist_Taxi, Dist_Market, Dist_Metro, Store_Area, Items_Available, Parking, Coupon_Category, Daily_Customer_Count, Store_Sales]\n",
       "Index: []"
      ]
     },
     "execution_count": 26,
     "metadata": {},
     "output_type": "execute_result"
    }
   ],
   "source": [
    "# Q7. Create a dataframe df2 fulfilling the given conditions - Dist_Metro>18000 and Parking= Open\n",
    "\n",
    "df2 = df[(df[\"Dist_Metro\"]>1800) & (df[\"Parking\"] == \"open\")]\n",
    "df2"
   ]
  },
  {
   "cell_type": "code",
   "execution_count": 27,
   "id": "543d4685",
   "metadata": {},
   "outputs": [
    {
     "data": {
      "text/plain": [
       "39820"
      ]
     },
     "execution_count": 27,
     "metadata": {},
     "output_type": "execute_result"
    }
   ],
   "source": [
    "# Q8. What is the minimum store sales and the standard Deviation of store sales.\n",
    "\n",
    "df_short['Store_Sales'].min()\n",
    "\n"
   ]
  },
  {
   "cell_type": "code",
   "execution_count": 28,
   "id": "2b489c86",
   "metadata": {},
   "outputs": [
    {
     "data": {
      "text/plain": [
       "9927.236775659176"
      ]
     },
     "execution_count": 28,
     "metadata": {},
     "output_type": "execute_result"
    }
   ],
   "source": [
    "df_short['Store_Sales'].std()"
   ]
  },
  {
   "cell_type": "code",
   "execution_count": 29,
   "id": "c715733b",
   "metadata": {},
   "outputs": [],
   "source": [
    "# Q9. Group the dataset with respect to the variable 'Coupon_Category' using aggregation function mean().\n",
    "\n"
   ]
  },
  {
   "cell_type": "code",
   "execution_count": 38,
   "id": "9289f9a6",
   "metadata": {},
   "outputs": [
    {
     "data": {
      "text/html": [
       "<div>\n",
       "<style scoped>\n",
       "    .dataframe tbody tr th:only-of-type {\n",
       "        vertical-align: middle;\n",
       "    }\n",
       "\n",
       "    .dataframe tbody tr th {\n",
       "        vertical-align: top;\n",
       "    }\n",
       "\n",
       "    .dataframe thead th {\n",
       "        text-align: right;\n",
       "    }\n",
       "</style>\n",
       "<table border=\"1\" class=\"dataframe\">\n",
       "  <thead>\n",
       "    <tr style=\"text-align: right;\">\n",
       "      <th></th>\n",
       "      <th>Observation</th>\n",
       "      <th>Dist_Taxi</th>\n",
       "      <th>Dist_Market</th>\n",
       "      <th>Dist_Metro</th>\n",
       "      <th>Store_Area</th>\n",
       "      <th>Items_Available</th>\n",
       "      <th>Coupon_Category</th>\n",
       "      <th>Daily_Customer_Count</th>\n",
       "      <th>Store_Sales</th>\n",
       "    </tr>\n",
       "  </thead>\n",
       "  <tbody>\n",
       "    <tr>\n",
       "      <th>0</th>\n",
       "      <td>1</td>\n",
       "      <td>9796.0</td>\n",
       "      <td>5250.0</td>\n",
       "      <td>10703.0</td>\n",
       "      <td>1659.0</td>\n",
       "      <td>1961.0</td>\n",
       "      <td>CAT B</td>\n",
       "      <td>530</td>\n",
       "      <td>66490</td>\n",
       "    </tr>\n",
       "    <tr>\n",
       "      <th>1</th>\n",
       "      <td>2</td>\n",
       "      <td>8294.0</td>\n",
       "      <td>8186.0</td>\n",
       "      <td>12694.0</td>\n",
       "      <td>1461.0</td>\n",
       "      <td>1752.0</td>\n",
       "      <td>CAT B</td>\n",
       "      <td>210</td>\n",
       "      <td>39820</td>\n",
       "    </tr>\n",
       "    <tr>\n",
       "      <th>2</th>\n",
       "      <td>3</td>\n",
       "      <td>11001.0</td>\n",
       "      <td>14399.0</td>\n",
       "      <td>16991.0</td>\n",
       "      <td>1340.0</td>\n",
       "      <td>1609.0</td>\n",
       "      <td>CAT A</td>\n",
       "      <td>720</td>\n",
       "      <td>54010</td>\n",
       "    </tr>\n",
       "    <tr>\n",
       "      <th>3</th>\n",
       "      <td>4</td>\n",
       "      <td>8301.0</td>\n",
       "      <td>11188.0</td>\n",
       "      <td>12289.0</td>\n",
       "      <td>1451.0</td>\n",
       "      <td>1748.0</td>\n",
       "      <td>CAT B</td>\n",
       "      <td>620</td>\n",
       "      <td>53730</td>\n",
       "    </tr>\n",
       "    <tr>\n",
       "      <th>4</th>\n",
       "      <td>5</td>\n",
       "      <td>10510.0</td>\n",
       "      <td>12629.0</td>\n",
       "      <td>13921.0</td>\n",
       "      <td>1770.0</td>\n",
       "      <td>2111.0</td>\n",
       "      <td>CAT B</td>\n",
       "      <td>450</td>\n",
       "      <td>46620</td>\n",
       "    </tr>\n",
       "    <tr>\n",
       "      <th>...</th>\n",
       "      <td>...</td>\n",
       "      <td>...</td>\n",
       "      <td>...</td>\n",
       "      <td>...</td>\n",
       "      <td>...</td>\n",
       "      <td>...</td>\n",
       "      <td>...</td>\n",
       "      <td>...</td>\n",
       "      <td>...</td>\n",
       "    </tr>\n",
       "    <tr>\n",
       "      <th>927</th>\n",
       "      <td>928</td>\n",
       "      <td>12176.0</td>\n",
       "      <td>8518.0</td>\n",
       "      <td>15673.0</td>\n",
       "      <td>1582.0</td>\n",
       "      <td>1910.0</td>\n",
       "      <td>CAT C</td>\n",
       "      <td>1080</td>\n",
       "      <td>66390</td>\n",
       "    </tr>\n",
       "    <tr>\n",
       "      <th>928</th>\n",
       "      <td>929</td>\n",
       "      <td>7214.0</td>\n",
       "      <td>8717.0</td>\n",
       "      <td>10553.0</td>\n",
       "      <td>1387.0</td>\n",
       "      <td>1663.0</td>\n",
       "      <td>CAT A</td>\n",
       "      <td>850</td>\n",
       "      <td>82080</td>\n",
       "    </tr>\n",
       "    <tr>\n",
       "      <th>929</th>\n",
       "      <td>930</td>\n",
       "      <td>7423.0</td>\n",
       "      <td>11708.0</td>\n",
       "      <td>13220.0</td>\n",
       "      <td>1200.0</td>\n",
       "      <td>1436.0</td>\n",
       "      <td>CAT A</td>\n",
       "      <td>1060</td>\n",
       "      <td>76440</td>\n",
       "    </tr>\n",
       "    <tr>\n",
       "      <th>930</th>\n",
       "      <td>931</td>\n",
       "      <td>15082.0</td>\n",
       "      <td>14700.0</td>\n",
       "      <td>19617.0</td>\n",
       "      <td>1299.0</td>\n",
       "      <td>1560.0</td>\n",
       "      <td>CAT B</td>\n",
       "      <td>770</td>\n",
       "      <td>96610</td>\n",
       "    </tr>\n",
       "    <tr>\n",
       "      <th>931</th>\n",
       "      <td>932</td>\n",
       "      <td>9297.0</td>\n",
       "      <td>12537.0</td>\n",
       "      <td>14418.0</td>\n",
       "      <td>1174.0</td>\n",
       "      <td>1429.0</td>\n",
       "      <td>CAT C</td>\n",
       "      <td>1110</td>\n",
       "      <td>54340</td>\n",
       "    </tr>\n",
       "  </tbody>\n",
       "</table>\n",
       "<p>932 rows × 9 columns</p>\n",
       "</div>"
      ],
      "text/plain": [
       "     Observation  Dist_Taxi  Dist_Market  Dist_Metro  Store_Area  \\\n",
       "0              1     9796.0       5250.0     10703.0      1659.0   \n",
       "1              2     8294.0       8186.0     12694.0      1461.0   \n",
       "2              3    11001.0      14399.0     16991.0      1340.0   \n",
       "3              4     8301.0      11188.0     12289.0      1451.0   \n",
       "4              5    10510.0      12629.0     13921.0      1770.0   \n",
       "..           ...        ...          ...         ...         ...   \n",
       "927          928    12176.0       8518.0     15673.0      1582.0   \n",
       "928          929     7214.0       8717.0     10553.0      1387.0   \n",
       "929          930     7423.0      11708.0     13220.0      1200.0   \n",
       "930          931    15082.0      14700.0     19617.0      1299.0   \n",
       "931          932     9297.0      12537.0     14418.0      1174.0   \n",
       "\n",
       "     Items_Available Coupon_Category  Daily_Customer_Count  Store_Sales  \n",
       "0             1961.0           CAT B                   530        66490  \n",
       "1             1752.0           CAT B                   210        39820  \n",
       "2             1609.0           CAT A                   720        54010  \n",
       "3             1748.0           CAT B                   620        53730  \n",
       "4             2111.0           CAT B                   450        46620  \n",
       "..               ...             ...                   ...          ...  \n",
       "927           1910.0           CAT C                  1080        66390  \n",
       "928           1663.0           CAT A                   850        82080  \n",
       "929           1436.0           CAT A                  1060        76440  \n",
       "930           1560.0           CAT B                   770        96610  \n",
       "931           1429.0           CAT C                  1110        54340  \n",
       "\n",
       "[932 rows x 9 columns]"
      ]
     },
     "execution_count": 38,
     "metadata": {},
     "output_type": "execute_result"
    }
   ],
   "source": [
    "# Q10. Drop the variable 'Parking' from the data.\n",
    "# syntax --> df. drop('A', axis=1) .\n",
    "\n",
    "df.drop(\"Parking\", axis = 1)\n"
   ]
  },
  {
   "cell_type": "code",
   "execution_count": 39,
   "id": "cedbec08",
   "metadata": {},
   "outputs": [
    {
     "name": "stdout",
     "output_type": "stream",
     "text": [
      "     Observation  Dist_Taxi  Dist_Market  Dist_Metro  Store_Area  \\\n",
      "0              1     9796.0       5250.0     10703.0      1659.0   \n",
      "1              2     8294.0       8186.0     12694.0      1461.0   \n",
      "2              3    11001.0      14399.0     16991.0      1340.0   \n",
      "3              4     8301.0      11188.0     12289.0      1451.0   \n",
      "4              5    10510.0      12629.0     13921.0      1770.0   \n",
      "..           ...        ...          ...         ...         ...   \n",
      "927          928    12176.0       8518.0     15673.0      1582.0   \n",
      "928          929     7214.0       8717.0     10553.0      1387.0   \n",
      "929          930     7423.0      11708.0     13220.0      1200.0   \n",
      "930          931    15082.0      14700.0     19617.0      1299.0   \n",
      "931          932     9297.0      12537.0     14418.0      1174.0   \n",
      "\n",
      "     Items_Available       Parking Coupon_Category  Daily_Customer_Count  \\\n",
      "0             1961.0          Open           CAT B                   530   \n",
      "1             1752.0  Not Provided           CAT B                   210   \n",
      "2             1609.0  Not Provided           CAT A                   720   \n",
      "3             1748.0       Covered           CAT B                   620   \n",
      "4             2111.0  Not Provided           CAT B                   450   \n",
      "..               ...           ...             ...                   ...   \n",
      "927           1910.0       Covered           CAT C                  1080   \n",
      "928           1663.0          Open           CAT A                   850   \n",
      "929           1436.0          Open           CAT A                  1060   \n",
      "930           1560.0          Open           CAT B                   770   \n",
      "931           1429.0       Covered           CAT C                  1110   \n",
      "\n",
      "     Store_Sales  \n",
      "0          66490  \n",
      "1          39820  \n",
      "2          54010  \n",
      "3          53730  \n",
      "4          46620  \n",
      "..           ...  \n",
      "927        66390  \n",
      "928        82080  \n",
      "929        76440  \n",
      "930        96610  \n",
      "931        54340  \n",
      "\n",
      "[932 rows x 10 columns]\n"
     ]
    }
   ],
   "source": [
    "print(df)\n"
   ]
  },
  {
   "cell_type": "code",
   "execution_count": 41,
   "id": "c9a48730",
   "metadata": {},
   "outputs": [],
   "source": [
    "# df_short(\"Parking\", axis = 1)"
   ]
  },
  {
   "cell_type": "code",
   "execution_count": 42,
   "id": "2878797e",
   "metadata": {},
   "outputs": [],
   "source": [
    "# Q11. Export the Q10 dataframe without the 'Parking' column into a csv file.\n",
    "\n"
   ]
  },
  {
   "cell_type": "code",
   "execution_count": null,
   "id": "e2ac7bad",
   "metadata": {},
   "outputs": [],
   "source": []
  }
 ],
 "metadata": {
  "kernelspec": {
   "display_name": "Python 3 (ipykernel)",
   "language": "python",
   "name": "python3"
  },
  "language_info": {
   "codemirror_mode": {
    "name": "ipython",
    "version": 3
   },
   "file_extension": ".py",
   "mimetype": "text/x-python",
   "name": "python",
   "nbconvert_exporter": "python",
   "pygments_lexer": "ipython3",
   "version": "3.11.3"
  }
 },
 "nbformat": 4,
 "nbformat_minor": 5
}
