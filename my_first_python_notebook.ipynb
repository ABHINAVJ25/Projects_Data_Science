{
 "cells": [
  {
   "cell_type": "code",
   "execution_count": 1,
   "id": "4e721d7b",
   "metadata": {},
   "outputs": [
    {
     "data": {
      "text/plain": [
       "4"
      ]
     },
     "execution_count": 1,
     "metadata": {},
     "output_type": "execute_result"
    }
   ],
   "source": [
    "2+2"
   ]
  },
  {
   "cell_type": "code",
   "execution_count": 2,
   "id": "1987bd75",
   "metadata": {},
   "outputs": [
    {
     "data": {
      "text/plain": [
       "6"
      ]
     },
     "execution_count": 2,
     "metadata": {},
     "output_type": "execute_result"
    }
   ],
   "source": [
    "3+3"
   ]
  },
  {
   "cell_type": "code",
   "execution_count": 3,
   "id": "6e049755",
   "metadata": {},
   "outputs": [
    {
     "name": "stdout",
     "output_type": "stream",
     "text": [
      "hello, World!\n"
     ]
    }
   ],
   "source": [
    "print('hello, World!')"
   ]
  },
  {
   "cell_type": "markdown",
   "id": "7f71861f",
   "metadata": {},
   "source": [
    "# Introduction to Python\n",
    "This is where we can add text.\n",
    "We must designate this cell as \"Markdown\" cell.\n",
    "with a single hashtag we can get a big section header.\n",
    "We can also add subsections.\n",
    "\n",
    "## Subsection\n",
    "It is convinent to communicate how your code works and what it is doing with the markdown cell.\n",
    "We can also use LaTeX commands in-line with single dollar sign : $\\int_0^\\infty f{x} dx$\n",
    "We can add LaTeX equations centered on thier own lines with double dollar signs : $$\\sum_{i=1}^\\infty \\frac{1}{2}$$ "
   ]
  },
  {
   "cell_type": "markdown",
   "id": "ddc8c687",
   "metadata": {},
   "source": [
    "## Shortcuts\n",
    "\n",
    "1. Shift + Enter  (to run a cell and cursor will move to the bottom cell )\n",
    "2. Ctrl  + Enter  (to run a cell cursor will be their only )\n",
    "3. Alt   + Enter  (to run a cell and a new cell will be created automatically with a cursor blinking in it to write code )\n",
    "4. Tab             ([pr] will get a dropdown showing some python functions starting with pr )\n",
    "5. Shift + Tab (while we type any python function such as print the command will help us to know the properties of the function)\n",
    "6. Ctrl + / (to comment a line)\n"
   ]
  },
  {
   "cell_type": "code",
   "execution_count": 4,
   "id": "eaef61f8",
   "metadata": {},
   "outputs": [
    {
     "name": "stdout",
     "output_type": "stream",
     "text": [
      "five times a is 15 and 3 multiplied by a is 9\n",
      "five times a is 10 and 3 multiplied by a is 6\n"
     ]
    }
   ],
   "source": [
    "# we can add comments to code cells using a hashtag  \n",
    "# On windows we can comment a line using \"ctrl + /\"\n",
    "# assign a variable to a literal value\n",
    "a=3\n",
    "print('five times a is', 5*a, 'and 3 multiplied by a is', 3*a)\n",
    "a = 2\n",
    "print('five times a is', 5*a, 'and 3 multiplied by a is', 3*a)"
   ]
  },
  {
   "cell_type": "code",
   "execution_count": 5,
   "id": "dfae3653",
   "metadata": {},
   "outputs": [
    {
     "name": "stdout",
     "output_type": "stream",
     "text": [
      "a is of type <class 'int'>\n",
      "b is of type <class 'float'>\n",
      "c is of type <class 'float'> and its value is 0.9523809523809523\n",
      "c is of type <class 'float'> and its value is 0.9523809523809523\n",
      "d is of type <class 'float'> and its value is 0.9523809523809523\n",
      "e is of type <class 'str'>\n"
     ]
    }
   ],
   "source": [
    "# We can also inspect the variables\n",
    "print('a is of type', type(a))\n",
    "b = 2.1\n",
    "print('b is of type', type(b))\n",
    "c = a/b\n",
    "print('c is of type', type(c), 'and its value is', c)\n",
    "c = float(a)/b\n",
    "print('c is of type', type(c), 'and its value is', c)\n",
    "d = a/b\n",
    "print('d is of type', type(d), 'and its value is', d)\n",
    "\n",
    "e = \"Hi\"\n",
    "print('e is of type', type(e))"
   ]
  },
  {
   "cell_type": "code",
   "execution_count": 6,
   "id": "613d0183",
   "metadata": {},
   "outputs": [
    {
     "name": "stdout",
     "output_type": "stream",
     "text": [
      "a is of type <class 'int'> and c is of type <class 'float'>\n"
     ]
    }
   ],
   "source": [
    "a = 24\n",
    "\n",
    "b=7\n",
    "\n",
    "c=a/b\n",
    "\n",
    "print(\"a is of type\",type(a), \"and c is of type\", type(c) )"
   ]
  },
  {
   "cell_type": "markdown",
   "id": "222af302",
   "metadata": {},
   "source": [
    "# Collections of variables\n",
    "1. List  (A list is an ordered and indexed collection of values that are changables and allows duplicates)\n",
    "2. Touple (A Tuple is a ordered collection of values that is unchangable and allows duplicates)\n",
    "3. Set     (A set is a unordered collection of values that are changeable and does not allow duplicates)\n",
    "4. Dictionary (A Dictionary is a collection of values that are unordered [but indexed] and changable)"
   ]
  },
  {
   "cell_type": "code",
   "execution_count": 7,
   "id": "d7bb713e",
   "metadata": {},
   "outputs": [
    {
     "name": "stdout",
     "output_type": "stream",
     "text": [
      "['Abhi', 2, 3, 4, 'python', 2.71]\n",
      "Abhi\n",
      "4\n",
      "2.71\n",
      "python\n",
      "6\n"
     ]
    }
   ],
   "source": [
    "# A list is an ordered and indexed collection of values that are changable and allows duplicates.\n",
    "simple_list = ['Abhi',2,3,4,'python',2.71]\n",
    "print(simple_list)\n",
    "print(simple_list[0])\n",
    "print(simple_list[3])\n",
    "print(simple_list[-1])\n",
    "print(simple_list[-2])\n",
    "print(len(simple_list))"
   ]
  },
  {
   "cell_type": "code",
   "execution_count": 8,
   "id": "26149d8e",
   "metadata": {},
   "outputs": [
    {
     "name": "stdout",
     "output_type": "stream",
     "text": [
      "52\n",
      "['Abhi', 2, 3, 52, 'python', 2.71, 'to the back']\n",
      "7\n",
      "['Abhi', 2, 3, 52, 2.71, 'to the back']\n"
     ]
    }
   ],
   "source": [
    "# it is easy to change the entries of the list\n",
    "simple_list[3] = 52\n",
    "print(simple_list[3])\n",
    "simple_list.append('to the back')\n",
    "print(simple_list)\n",
    "print(len(simple_list))\n",
    "simple_list.pop(4)\n",
    "print(simple_list)"
   ]
  },
  {
   "cell_type": "code",
   "execution_count": 9,
   "id": "b826d0e1",
   "metadata": {},
   "outputs": [
    {
     "name": "stdout",
     "output_type": "stream",
     "text": [
      "[5, 5, 5, 5]\n"
     ]
    }
   ],
   "source": [
    "# it is easy to initialize a list of a particular size with all entries the same\n",
    "repeated_list = [5]*4\n",
    "print(repeated_list)"
   ]
  },
  {
   "cell_type": "code",
   "execution_count": 10,
   "id": "1187a5ba",
   "metadata": {},
   "outputs": [
    {
     "name": "stdout",
     "output_type": "stream",
     "text": [
      "['Abhi', [1, 2, 3], 3, 52, 2.71, 'to the back']\n",
      "[1, 2, 3]\n",
      "2\n"
     ]
    }
   ],
   "source": [
    "# We can also use lists as entries of a list \n",
    "simple_list[1] = [1, 2, 3]\n",
    "print(simple_list)\n",
    "print(simple_list[1])\n",
    "print(simple_list[1][1])"
   ]
  },
  {
   "cell_type": "code",
   "execution_count": 11,
   "id": "451781f4",
   "metadata": {},
   "outputs": [
    {
     "name": "stdout",
     "output_type": "stream",
     "text": [
      "['Abhi', [1, 2, 3], 3, 52, 2.71, 'to the back']\n",
      "['Abhi', [1, 2, 3], 3, 52, 2.71, 'to the back']\n",
      "['Abhi', 0, 3, 52, 2.71, 'to the back']\n",
      "['Abhi', 0, 3, 52, 2.71, 'to the back']\n"
     ]
    }
   ],
   "source": [
    "# copying list is a little tricky\n",
    "list2 = simple_list\n",
    "print(list2)\n",
    "print(simple_list)\n",
    "list2[1] = 0\n",
    "print(list2)\n",
    "print(simple_list) # the changes done in list2 will effect the main list also"
   ]
  },
  {
   "cell_type": "code",
   "execution_count": 12,
   "id": "0a6e0d92",
   "metadata": {},
   "outputs": [
    {
     "name": "stdout",
     "output_type": "stream",
     "text": [
      "['Abhi', 0, 3, 52, 2.71, 'to the back']\n",
      "['Abhi', 0, 3, 52, 2.71, 'to the back']\n",
      "['ABHINAV', 0, 3, 52, 2.71, 'to the back']\n",
      "['Abhi', 0, 3, 52, 2.71, 'to the back']\n"
     ]
    }
   ],
   "source": [
    "# To avoid this behaviour we have to use copy method\n",
    "list3 = simple_list.copy()\n",
    "print(list3)\n",
    "print(simple_list)\n",
    "list3[0] = 'ABHINAV'\n",
    "print(list3)\n",
    "print(simple_list)"
   ]
  },
  {
   "cell_type": "code",
   "execution_count": 13,
   "id": "de17dd67",
   "metadata": {},
   "outputs": [
    {
     "name": "stdout",
     "output_type": "stream",
     "text": [
      "(12, 42, 11, 99, 2351)\n",
      "42\n"
     ]
    }
   ],
   "source": [
    "# A Tuple is a ordered collection of values that is unchangable and allows duplicates\n",
    "simple_tuple = (12, 42, 11, 99, 2351)\n",
    "print(simple_tuple)\n",
    "print(simple_tuple[1])"
   ]
  },
  {
   "cell_type": "code",
   "execution_count": 18,
   "id": "7f799652",
   "metadata": {},
   "outputs": [],
   "source": [
    "# it is not possible to change entries in the tuple\n",
    "# simple_tuple[2] = 26\n",
    "# print(simple_tuple)"
   ]
  },
  {
   "cell_type": "code",
   "execution_count": 15,
   "id": "d7e52e9c",
   "metadata": {},
   "outputs": [
    {
     "name": "stdout",
     "output_type": "stream",
     "text": [
      "(16, 42, 11, 99, 2351)\n"
     ]
    }
   ],
   "source": [
    "# we can work around this through...\n",
    "dummy = list(simple_tuple)\n",
    "dummy[0] = 16\n",
    "simple_tuple = tuple(dummy)\n",
    "print(simple_tuple)\n",
    "# Here we have to type cast the tuple to the list and we stored it in a dummy variable \n",
    "# and then the dummy contains a list and inside a list we can change values so we changed the value\n",
    "# As dummy is a list now we again have typecast it back to tuple\n",
    "# and simultaneously we storedthe tuple(dummy) inside the simple_tuple\n",
    "# and given the command to print the simple_tuple again and hence we over come this thing"
   ]
  },
  {
   "cell_type": "code",
   "execution_count": 16,
   "id": "bb5aed9b",
   "metadata": {},
   "outputs": [
    {
     "name": "stdout",
     "output_type": "stream",
     "text": [
      "{'water', 11, -2}\n"
     ]
    }
   ],
   "source": [
    "# A Set is a unordered collection of values that are changable and does not allow duplicates\n",
    "simple_set = {11, -2, 'water', -2}\n",
    "print(simple_set)"
   ]
  },
  {
   "cell_type": "code",
   "execution_count": 19,
   "id": "9e457c2c",
   "metadata": {},
   "outputs": [],
   "source": [
    "# print(simple_set[1])\n"
   ]
  },
  {
   "cell_type": "code",
   "execution_count": 20,
   "id": "f9baf650",
   "metadata": {},
   "outputs": [
    {
     "name": "stdout",
     "output_type": "stream",
     "text": [
      "True\n"
     ]
    }
   ],
   "source": [
    "print('water' in simple_set)"
   ]
  },
  {
   "cell_type": "code",
   "execution_count": 21,
   "id": "37e9d64d",
   "metadata": {},
   "outputs": [
    {
     "name": "stdout",
     "output_type": "stream",
     "text": [
      "{72, 'water', 11, -2}\n",
      "{72, 11, -2}\n"
     ]
    }
   ],
   "source": [
    "# We cannot change values but we can add and remove entries from the set\n",
    "simple_set.add(72)\n",
    "print(simple_set)\n",
    "simple_set.remove('water')\n",
    "print(simple_set)"
   ]
  },
  {
   "cell_type": "code",
   "execution_count": 22,
   "id": "23864a41",
   "metadata": {},
   "outputs": [
    {
     "name": "stdout",
     "output_type": "stream",
     "text": [
      "{'brand': 'Apple', 'product': 'iPhone', 'model': 'X'}\n",
      "i bought an iPhone model X from Apple\n"
     ]
    }
   ],
   "source": [
    "# A Dictionary is a collection of values that are unordered[but indexed] and changeable\n",
    "simple_dict = {\n",
    "    \"brand\" : \"Apple\",\n",
    "    \"product\" : \"iPhone\",\n",
    "    \"model\"  :  \"X\"\n",
    "}\n",
    "print(simple_dict)\n",
    "print('i bought an', simple_dict['product'], 'model', simple_dict['model'], 'from', simple_dict['brand'])"
   ]
  },
  {
   "cell_type": "code",
   "execution_count": 23,
   "id": "da476cb4",
   "metadata": {},
   "outputs": [
    {
     "name": "stdout",
     "output_type": "stream",
     "text": [
      "i bought an iPhone model 11 pro from Apple\n"
     ]
    }
   ],
   "source": [
    "simple_dict['model'] = \"11 pro\"\n",
    "print('i bought an', simple_dict[\"product\"], 'model', simple_dict[\"model\"], 'from', simple_dict[\"brand\"])"
   ]
  },
  {
   "cell_type": "code",
   "execution_count": 24,
   "id": "b59448e5",
   "metadata": {},
   "outputs": [
    {
     "name": "stdout",
     "output_type": "stream",
     "text": [
      "i bought a red iPhone model 11 pro from Apple\n"
     ]
    }
   ],
   "source": [
    "simple_dict[\"color\"] = \"red\"\n",
    "print('i bought a', simple_dict[\"color\"], simple_dict[\"product\"], 'model', simple_dict[\"model\"], 'from', simple_dict[\"brand\"])"
   ]
  },
  {
   "cell_type": "code",
   "execution_count": 26,
   "id": "92b3d205",
   "metadata": {},
   "outputs": [
    {
     "name": "stdout",
     "output_type": "stream",
     "text": [
      "[2, 7, 3]\n",
      "[2]\n",
      "[7, 3, 66, 1923]\n"
     ]
    }
   ],
   "source": [
    "simple_list = [1, 5, 2, 7, 3, 66, 1923, 11]\n",
    "# we can access multiple values in the list using the --> :\n",
    "# we must be careful though\n",
    "print(simple_list[2:5])\n",
    "# why is not 66 in the output\n",
    "# the number of the left of the : is inclusive but thenumber to the right is exclusive\n",
    "print(simple_list[2:3])\n",
    "# we can also use negative numbers\n",
    "print(simple_list[-5:-1]) "
   ]
  },
  {
   "cell_type": "markdown",
   "id": "5bda257f",
   "metadata": {},
   "source": [
    "# Wrpping up\n",
    "\n",
    "Once we are done with yhe notebook we can export it as an html file.\n",
    "File/ Download as / HTML\n",
    "The code in this HTML file cannot re-run but is a concise way to communicate your results. And anyone can copy/paste tour inputs"
   ]
  },
  {
   "cell_type": "code",
   "execution_count": null,
   "id": "9020ae72",
   "metadata": {},
   "outputs": [],
   "source": []
  }
 ],
 "metadata": {
  "kernelspec": {
   "display_name": "Python 3 (ipykernel)",
   "language": "python",
   "name": "python3"
  },
  "language_info": {
   "codemirror_mode": {
    "name": "ipython",
    "version": 3
   },
   "file_extension": ".py",
   "mimetype": "text/x-python",
   "name": "python",
   "nbconvert_exporter": "python",
   "pygments_lexer": "ipython3",
   "version": "3.11.3"
  }
 },
 "nbformat": 4,
 "nbformat_minor": 5
}
