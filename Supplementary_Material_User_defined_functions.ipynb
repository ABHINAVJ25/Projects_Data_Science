{
 "cells": [
  {
   "cell_type": "markdown",
   "id": "8dca4cec",
   "metadata": {},
   "source": [
    "## User defined functions\n",
    "\n",
    "1. It is often useful to define your function to do something than have your python code call that function.\n",
    "\n",
    "2. this is useful when you want to perform the same computation in several different scenarios. If you put this computuation inside the function then you won't have to re-write your code each time you want to make the computation.\n",
    "\n",
    "3. There are two(2) ways to do this:\n",
    "\n",
    "    a. defined functions.\n",
    "\n",
    "    b. lembda functions(inline)"
   ]
  },
  {
   "cell_type": "code",
   "execution_count": 7,
   "id": "860ff835",
   "metadata": {},
   "outputs": [
    {
     "name": "stdout",
     "output_type": "stream",
     "text": [
      "x^2+7 =  32\n",
      "16\n",
      "263\n",
      "      This is my Documentation String.\n",
      "    it needs to be in triple double quotes.\n",
      "    this function returns x^2 + 7\n"
     ]
    }
   ],
   "source": [
    "# define a function that takes an input, square it, add seven(7), then return he answer.\n",
    "\n",
    "def x2p7(x):\n",
    "    \"\"\"      This is my Documentation String.\n",
    "    it needs to be in triple double quotes.\n",
    "    this function returns x^2 + 7\"\"\"\n",
    "    y = x*x\n",
    "    z = y + 7\n",
    "    return z\n",
    "print(\"x^2+7 = \",x2p7(5))\n",
    "print(x2p7(3))\n",
    "print(x2p7(16))\n",
    "print(x2p7.__doc__)  ## to print the documentation string"
   ]
  },
  {
   "cell_type": "code",
   "execution_count": 8,
   "id": "04a07e40",
   "metadata": {},
   "outputs": [],
   "source": [
    "# if we have a documentation string then we can quickly access it with Shift + Tab\n",
    "# x2p7"
   ]
  },
  {
   "cell_type": "code",
   "execution_count": 12,
   "id": "c1e13c44",
   "metadata": {},
   "outputs": [
    {
     "name": "stdout",
     "output_type": "stream",
     "text": [
      "\n",
      "[34, 234, 31, 888, 68, 468, 62, 1776, 102, 702, 93, 2664, 136, 936, 124, 3552]\n"
     ]
    }
   ],
   "source": [
    "# these functions can be very complicated:\n",
    "def complicated_function(x, y):\n",
    "    lenx = len(x)\n",
    "    leny = len(y)\n",
    "    z = [0]*(lenx*leny)\n",
    "#     print(len(z))\n",
    "#     print(z)\n",
    "    print('')\n",
    "    counter = 0\n",
    "    for i in x:\n",
    "        for j in y:\n",
    "            z[counter] = i*j\n",
    "            counter = counter + 1\n",
    "    return z\n",
    "\n",
    "output = complicated_function([1, 2, 3, 4], [34, 234, 31, 888])\n",
    "print(output)"
   ]
  },
  {
   "cell_type": "code",
   "execution_count": 13,
   "id": "687a2d34",
   "metadata": {},
   "outputs": [
    {
     "ename": "NameError",
     "evalue": "name 'lenx' is not defined",
     "output_type": "error",
     "traceback": [
      "\u001b[1;31m---------------------------------------------------------------------------\u001b[0m",
      "\u001b[1;31mNameError\u001b[0m                                 Traceback (most recent call last)",
      "Cell \u001b[1;32mIn[13], line 2\u001b[0m\n\u001b[0;32m      1\u001b[0m \u001b[38;5;66;03m# scope\u001b[39;00m\n\u001b[1;32m----> 2\u001b[0m \u001b[38;5;28mprint\u001b[39m(lenx)\n",
      "\u001b[1;31mNameError\u001b[0m: name 'lenx' is not defined"
     ]
    }
   ],
   "source": [
    "# scope\n",
    "print(lenx)\n",
    "\n",
    "# NameError: name 'lenx' is not defined\n",
    "# it is showing because lenx function is defined inside complicated_function(x, y)\n",
    "# outside the complicated_function it is not defined so we cant use it"
   ]
  },
  {
   "cell_type": "code",
   "execution_count": 14,
   "id": "55528489",
   "metadata": {},
   "outputs": [],
   "source": [
    "# a outside defined function is a function which can be accessed inside a function\n",
    "\n",
    "# "
   ]
  },
  {
   "cell_type": "code",
   "execution_count": 15,
   "id": "ace2330e",
   "metadata": {},
   "outputs": [
    {
     "name": "stdout",
     "output_type": "stream",
     "text": [
      "426\n",
      "213\n"
     ]
    }
   ],
   "source": [
    "# a variable defined inside a function cannot be accessed from outside the function.\n",
    "# but a varible defined outside a function can be accessed from inside the function.\n",
    "\n",
    "outside_var = 213\n",
    "def a_function(x):\n",
    "    return outside_var*x\n",
    "\n",
    "print(a_function(2))\n",
    "print(outside_var)"
   ]
  },
  {
   "cell_type": "markdown",
   "id": "b56bbf90",
   "metadata": {},
   "source": [
    "## AND THIS IS HOW SCOPE OF A VARIABLE WORKS"
   ]
  },
  {
   "cell_type": "code",
   "execution_count": 18,
   "id": "7be29aa4",
   "metadata": {},
   "outputs": [
    {
     "name": "stdout",
     "output_type": "stream",
     "text": [
      "20\n",
      "5\n"
     ]
    }
   ],
   "source": [
    "# we can address the scope issue by declaring a variable as Global\n",
    "\n",
    "def another_function(x):\n",
    "    global global_var #= 5\n",
    "    global_var = 5\n",
    "    return global_var * x\n",
    "\n",
    "print(another_function(4))\n",
    "print(global_var)\n",
    "\n",
    "# Cell In[17], line 4\n",
    "#     global global_var = 5\n",
    "#                       ^\n",
    "# SyntaxError: invalid syntax"
   ]
  },
  {
   "cell_type": "code",
   "execution_count": 19,
   "id": "7f1e5aab",
   "metadata": {},
   "outputs": [
    {
     "name": "stdout",
     "output_type": "stream",
     "text": [
      "32\n"
     ]
    }
   ],
   "source": [
    "# the first functin we wrote (x2p7) was actually a very simple function.\n",
    "# we can define such simple functions \"inline\" using something called a lambda function \n",
    "\n",
    "x2p7v2 = lambda x : x * x + 7\n",
    "print(x2p7v2(5))\n"
   ]
  },
  {
   "cell_type": "code",
   "execution_count": 20,
   "id": "fda1e01c",
   "metadata": {},
   "outputs": [
    {
     "name": "stdout",
     "output_type": "stream",
     "text": [
      "40.4\n"
     ]
    }
   ],
   "source": [
    "# lambda function can take more than 1 input\n",
    "\n",
    "another_lambda = lambda x, y, z : x*y + y*z + x/y\n",
    "print(another_lambda(2, 5, 6))"
   ]
  },
  {
   "cell_type": "code",
   "execution_count": null,
   "id": "eebe3b8d",
   "metadata": {},
   "outputs": [],
   "source": []
  }
 ],
 "metadata": {
  "kernelspec": {
   "display_name": "Python 3 (ipykernel)",
   "language": "python",
   "name": "python3"
  },
  "language_info": {
   "codemirror_mode": {
    "name": "ipython",
    "version": 3
   },
   "file_extension": ".py",
   "mimetype": "text/x-python",
   "name": "python",
   "nbconvert_exporter": "python",
   "pygments_lexer": "ipython3",
   "version": "3.11.3"
  }
 },
 "nbformat": 4,
 "nbformat_minor": 5
}
