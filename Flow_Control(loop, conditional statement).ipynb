{
 "cells": [
  {
   "cell_type": "markdown",
   "id": "d7349bc8",
   "metadata": {},
   "source": [
    "# Flow control\n",
    "1. Loops\n",
    "2. Conditionals\n",
    "\n",
    "## Loops \n",
    "loops is an efficient way to tell the computer to perform a command multiple times.\n",
    "Each iteration of loop can use new data to perform the command or depend on the privious loop.\n",
    "there are two main types of loops : for, while"
   ]
  },
  {
   "cell_type": "code",
   "execution_count": 1,
   "id": "c06df791",
   "metadata": {},
   "outputs": [
    {
     "name": "stdout",
     "output_type": "stream",
     "text": [
      "0\n",
      "1\n",
      "2\n",
      "3\n",
      "4\n",
      "5\n",
      "6\n",
      "2143\n",
      "123\n",
      "7834\n",
      "this line is not inside the loop\n",
      "the loop cycled 10 times\n"
     ]
    }
   ],
   "source": [
    "# For loops\n",
    "# there are a few ways to go through a for loop\n",
    "# One common method is to loop through the list\n",
    "# it is also possible to loop through other types of aggregated variables\n",
    "# But one rule remains the same\n",
    "# the inside of a loop is determined by tabs!!!!\n",
    "# this is also true for conditional and user defined functions!!!!!\n",
    "\n",
    "counter = 0\n",
    "simple_list = [0, 1, 2, 3, 4, 5, 6, 2143, 123, 7834]\n",
    "for i in simple_list:\n",
    "    #the only lines that get executed in this loop are tabbed correctly.\n",
    "    print(i)\n",
    "    counter = counter + 1\n",
    "print('this line is not inside the loop')\n",
    "print('the loop cycled', counter, 'times')"
   ]
  },
  {
   "cell_type": "code",
   "execution_count": 2,
   "id": "7fd06689",
   "metadata": {},
   "outputs": [
    {
     "name": "stdout",
     "output_type": "stream",
     "text": [
      "4\n",
      "5\n",
      "6\n",
      "this is outside j loop\n",
      "8\n",
      "10\n",
      "12\n",
      "this is outside j loop\n",
      "12\n",
      "15\n",
      "18\n",
      "this is outside j loop\n",
      "this is outside both the loops\n"
     ]
    }
   ],
   "source": [
    "# Nested loops\n",
    "for i in simple_list[1:4]:\n",
    "    for j in simple_list[4:7]:\n",
    "        print(i*j)\n",
    "    print('this is outside j loop')\n",
    "print('this is outside both the loops')\n",
    "\n",
    "# here we can see that inside both the loops we have given a print command to print i*j\n",
    "# And as we know both i and j will iterate inside the list \n",
    "# so i will iterate from 1 to 3 as 4 is excluded\n",
    "# and j will iterate from 4 o 6 as here also 7 is excluded\n",
    "# now as the value of i will be 1 in the first iteration similarly the value of j is 4 at its first iteration\n",
    "# so the expected output willbe 1*4 = 4\n",
    "# here as the loop continues inside the j loop so again the value of i is 1 and j moved forward to its next iteration i.e. 5\n",
    "# so out put will be like this\n",
    "# 1*4 = 4\n",
    "# 1*5 = 5\n",
    "# 1*6 = 6\n",
    "# outside the j loop\n",
    "# then i will iterate to its next value that is 2 then again\n",
    "# 2*4 = 8\n",
    "# 2*5 = 10\n",
    "# 2*6 = 12\n",
    "# outside the j loop\n",
    "# here again i will iterate to its next value that is 3\n",
    "# 3*4 = 12\n",
    "# 3*5 = 15\n",
    "# 3*6 = 18\n",
    "# outside the j loop\n",
    "# outside both the loops"
   ]
  },
  {
   "cell_type": "code",
   "execution_count": 3,
   "id": "2b6fc033",
   "metadata": {},
   "outputs": [
    {
     "name": "stdout",
     "output_type": "stream",
     "text": [
      "range(0, 6)\n"
     ]
    }
   ],
   "source": [
    "# we may just want to loop over a range of values\n",
    "# we can do this with a range type\n",
    "print(range(6))"
   ]
  },
  {
   "cell_type": "code",
   "execution_count": 4,
   "id": "ac9caf52",
   "metadata": {},
   "outputs": [
    {
     "name": "stdout",
     "output_type": "stream",
     "text": [
      "0\n",
      "1\n",
      "2\n",
      "3\n",
      "4\n",
      "5\n"
     ]
    }
   ],
   "source": [
    "for i in range(6):\n",
    "    print (i)"
   ]
  },
  {
   "cell_type": "code",
   "execution_count": 5,
   "id": "7056d316",
   "metadata": {},
   "outputs": [
    {
     "name": "stdout",
     "output_type": "stream",
     "text": [
      "4\n",
      "5\n",
      "6\n",
      "7\n",
      "8\n",
      "9\n"
     ]
    }
   ],
   "source": [
    "# if can specify the starting point of a range also\n",
    "# remember that the right value is inclusive and the right value is exclusive\n",
    "for i in range(4,10):\n",
    "    print (i)"
   ]
  },
  {
   "cell_type": "code",
   "execution_count": 6,
   "id": "f6fae30c",
   "metadata": {},
   "outputs": [
    {
     "name": "stdout",
     "output_type": "stream",
     "text": [
      "2\n",
      "4\n",
      "6\n",
      "8\n"
     ]
    }
   ],
   "source": [
    "# we can also increment by a specific amount \n",
    "for i in range(2, 10, 2): # we can tell where to start where to stop and how much to increment it by\n",
    "    print(i)"
   ]
  },
  {
   "cell_type": "code",
   "execution_count": 7,
   "id": "1338c994",
   "metadata": {},
   "outputs": [
    {
     "data": {
      "text/plain": [
       "[6, 9, 12]"
      ]
     },
     "execution_count": 7,
     "metadata": {},
     "output_type": "execute_result"
    }
   ],
   "source": [
    "# we can convert a range type to a list though\n",
    "list(range(6, 15, 3))"
   ]
  },
  {
   "cell_type": "code",
   "execution_count": 8,
   "id": "d16214c1",
   "metadata": {},
   "outputs": [
    {
     "name": "stdout",
     "output_type": "stream",
     "text": [
      "4\n",
      "5\n",
      "6\n",
      "7\n",
      "8\n",
      "9\n",
      "outside of while loop\n"
     ]
    }
   ],
   "source": [
    "# while loops are similar to most other languages\n",
    "# but the inside of the while loop is still determined by the tabs \n",
    "i = 4\n",
    "while i < 10:\n",
    "    print(i)\n",
    "    i = i + 1\n",
    "print('outside of while loop')"
   ]
  },
  {
   "cell_type": "markdown",
   "id": "ff2a5acd",
   "metadata": {},
   "source": [
    "## Conditional statements\n",
    "we will now look at conditional statements. There are three types of conditions.\n",
    "\n",
    "1. if\n",
    "2. elif\n",
    "3. else\n"
   ]
  },
  {
   "cell_type": "code",
   "execution_count": 9,
   "id": "9115ab96",
   "metadata": {},
   "outputs": [
    {
     "name": "stdout",
     "output_type": "stream",
     "text": [
      "30 is greater than or equal to 10\n"
     ]
    }
   ],
   "source": [
    "i = 30\n",
    "if i < 10:\n",
    "    print(i, 'is less than 10')\n",
    "    print('Also run this')\n",
    "else:\n",
    "    print(i, 'is greater than or equal to 10')"
   ]
  },
  {
   "cell_type": "code",
   "execution_count": 10,
   "id": "f1203592",
   "metadata": {},
   "outputs": [
    {
     "name": "stdout",
     "output_type": "stream",
     "text": [
      "3 is less than 10\n",
      "Also run this\n"
     ]
    }
   ],
   "source": [
    "i = 3\n",
    "if i < 10:\n",
    "    print(i, 'is less than 10')\n",
    "    print('Also run this')\n",
    "else:\n",
    "    print(i, 'is greater than or equal to 10')"
   ]
  },
  {
   "cell_type": "code",
   "execution_count": 11,
   "id": "a633a2a2",
   "metadata": {},
   "outputs": [
    {
     "name": "stdout",
     "output_type": "stream",
     "text": [
      "8 is smaller than 10\n"
     ]
    }
   ],
   "source": [
    "i = 8 \n",
    "if i >10:\n",
    "    print(i, 'is greater than 10')\n",
    "elif i < 10:\n",
    "    print(i, 'is smaller than 10')\n",
    "else:\n",
    "    print(i, 'is between 3 and 10')"
   ]
  },
  {
   "cell_type": "code",
   "execution_count": 12,
   "id": "89398ad3",
   "metadata": {},
   "outputs": [
    {
     "name": "stdout",
     "output_type": "stream",
     "text": [
      "8 is between 3 and 10\n"
     ]
    }
   ],
   "source": [
    "i = 8 \n",
    "if i >10:\n",
    "    print(i, 'is greater than 10')\n",
    "elif i < 3:\n",
    "    print(i, 'is smaller than 10')\n",
    "else:\n",
    "    print(i, 'is between 3 and 10')"
   ]
  },
  {
   "cell_type": "code",
   "execution_count": 13,
   "id": "59416fb8",
   "metadata": {},
   "outputs": [
    {
     "name": "stdout",
     "output_type": "stream",
     "text": [
      "1 is smaller than 3\n"
     ]
    }
   ],
   "source": [
    "i = 1\n",
    "if i >10:\n",
    "    print(i, 'is greater than 10')\n",
    "elif i < 3:\n",
    "    print(i, 'is smaller than 3')\n",
    "else:\n",
    "    print(i, 'is between 3 and 10')"
   ]
  },
  {
   "cell_type": "code",
   "execution_count": 14,
   "id": "d2996e39",
   "metadata": {},
   "outputs": [
    {
     "name": "stdout",
     "output_type": "stream",
     "text": [
      "11 is greater than 10\n"
     ]
    }
   ],
   "source": [
    "i = 11\n",
    "if i >10:\n",
    "    print(i, 'is greater than 10')\n",
    "elif i < 3:\n",
    "    print(i, 'is smaller than 10')\n",
    "else:\n",
    "    print(i, 'is between 3 and 10')"
   ]
  },
  {
   "cell_type": "code",
   "execution_count": 15,
   "id": "e215e5dc",
   "metadata": {},
   "outputs": [
    {
     "name": "stdout",
     "output_type": "stream",
     "text": [
      "3 is between 3 and 10\n"
     ]
    }
   ],
   "source": [
    "i = 3 \n",
    "if i >10:\n",
    "    print(i, 'is greater than 10')\n",
    "elif i < 3:\n",
    "    print(i, 'is smaller than 10')\n",
    "elif i > 4:\n",
    "        print(i)\n",
    "else:\n",
    "    print(i, 'is between 3 and 10')"
   ]
  },
  {
   "cell_type": "markdown",
   "id": "81330b29",
   "metadata": {},
   "source": [
    "## Week one practice exercise 2"
   ]
  },
  {
   "cell_type": "code",
   "execution_count": 16,
   "id": "417078b0",
   "metadata": {},
   "outputs": [
    {
     "data": {
      "text/plain": [
       "False"
      ]
     },
     "execution_count": 16,
     "metadata": {},
     "output_type": "execute_result"
    }
   ],
   "source": [
    "String=\"My Name is Adam\"\n",
    "String.isupper()"
   ]
  },
  {
   "cell_type": "code",
   "execution_count": 17,
   "id": "b4fcb381",
   "metadata": {},
   "outputs": [
    {
     "data": {
      "text/plain": [
       "15"
      ]
     },
     "execution_count": 17,
     "metadata": {},
     "output_type": "execute_result"
    }
   ],
   "source": [
    "len(\"My Name is Adam\")"
   ]
  },
  {
   "cell_type": "code",
   "execution_count": 20,
   "id": "287175a1",
   "metadata": {},
   "outputs": [
    {
     "name": "stdout",
     "output_type": "stream",
     "text": [
      "2\n",
      "4\n",
      "6\n",
      "8\n",
      "10\n",
      "12\n"
     ]
    }
   ],
   "source": [
    "i = 1\n",
    "while i < 13:\n",
    "    if i%2 == 0 :\n",
    "        print(i)\n",
    "    i = i + 1"
   ]
  },
  {
   "cell_type": "code",
   "execution_count": 19,
   "id": "90600912",
   "metadata": {},
   "outputs": [
    {
     "name": "stdout",
     "output_type": "stream",
     "text": [
      "2\n",
      "4\n",
      "6\n",
      "8\n",
      "10\n",
      "12\n"
     ]
    }
   ],
   "source": [
    "i = 1\n",
    "while i < 13:\n",
    "    if i % 2 != 1:\n",
    "        print(i)\n",
    "    i = i + 1\n"
   ]
  },
  {
   "cell_type": "code",
   "execution_count": 26,
   "id": "4dd7465f",
   "metadata": {},
   "outputs": [],
   "source": [
    "x=50 \n",
    "y=30 \n",
    "z=40"
   ]
  },
  {
   "cell_type": "code",
   "execution_count": 28,
   "id": "cfdda9f1",
   "metadata": {},
   "outputs": [
    {
     "name": "stdout",
     "output_type": "stream",
     "text": [
      "30 is smallest than x and z\n"
     ]
    }
   ],
   "source": [
    "if (x<y) and (x<z):\n",
    "    print(x, 'is smallest than y and z')\n",
    "elif(y<z):\n",
    "    print(y, 'is smallest than x and z')\n",
    "else:\n",
    "    print(z, 'is the smallest than x and y')"
   ]
  },
  {
   "cell_type": "code",
   "execution_count": null,
   "id": "103923d9",
   "metadata": {},
   "outputs": [],
   "source": []
  }
 ],
 "metadata": {
  "kernelspec": {
   "display_name": "Python 3 (ipykernel)",
   "language": "python",
   "name": "python3"
  },
  "language_info": {
   "codemirror_mode": {
    "name": "ipython",
    "version": 3
   },
   "file_extension": ".py",
   "mimetype": "text/x-python",
   "name": "python",
   "nbconvert_exporter": "python",
   "pygments_lexer": "ipython3",
   "version": "3.11.3"
  }
 },
 "nbformat": 4,
 "nbformat_minor": 5
}
