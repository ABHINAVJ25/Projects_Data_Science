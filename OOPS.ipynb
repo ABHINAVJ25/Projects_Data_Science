{
 "cells": [
  {
   "cell_type": "markdown",
   "id": "6df202b9",
   "metadata": {},
   "source": [
    "## Object Oriented Programming in py\n",
    "\n",
    "Basics of oops.\n",
    "\n",
    "When we talk about oops we talk about classes and objects.\n",
    "\n",
    "oops in py is not different than oop in other language.\n",
    "\n",
    "\n",
    "## Whatis a class?\n",
    "\n",
    "a class is a user defined datatype, where we give a name to a data_type.\n",
    "\n",
    "int is the name of a data_type, float is the name of data_type, list is the name of a data_type.\n",
    "\n",
    "similarly if i define a class called my_data_type then My_data_type is the name of a data type.\n",
    "\n",
    "This data type can contain many variables inside of it with each variable possibly being of different data type. and each variable can have its own name. At first glance a class seems a lot like a dictionary. We will see soon how its different.\n",
    "\n",
    "## Attributes\n",
    "A variable inside a class is called an attribute.\n",
    "\n",
    "## Methods\n",
    "How is this different than a list or Dictionary?\n",
    "\n",
    "You can also have functions inside of a class. You call a function hat is inside of a class a method.\n",
    "\n",
    "These functions can perform calculations on the attributes or on data fed to them from outside of the class.\n",
    "\n",
    "In the decleration of a class you can only define methods. If you want to declare an attribute this must be done inside a mehod.\n",
    "\n",
    "## Objects\n",
    "\n",
    "An object is an instance of a particular class.\n",
    "\n",
    "For example, one existing data type in python is int.\n",
    "\n",
    "if i define a variable as first_int = 6\n",
    "\n",
    "then first_int is an object of the data type int.\n",
    "\n",
    "I can also define second_int = 532.\n",
    "\n",
    "This is another instance of type int.\n",
    "\n",
    "These two instances of type int have different values assigned to them!\n",
    "\n",
    "Similarly I can define my own type of variable as a class called my data_type then i can declare multiple objects of the class My_data_type, each having different names and possibly having different values assigned to thier attributes and different execution of the methods. We have to name the data_type (int) but we also have to name each instance of the data_type(first_int, second_int).\n",
    "\n",
    "This will be more clear when we will see an example.\n",
    "\n",
    "## Initializer\n",
    "\n",
    "If we want to assign some attribute values to your object when you declare it we use an initializer in the class defination. \n",
    "we can also automatically run other methods from inside the initializer at the time of declaration.\n",
    "\n",
    "## Self\n",
    "\n",
    "Self is an important concept of classes. self is python internal reference Identifier for classes. It serves two main purposes.\n",
    "\n",
    "1. when you add an attribute(variable) In class you must name it self.attribute_name. Then when you declare an object of that class you access that attribute from the outside as object_name.ttribute_name, or if you want to use it internally in a method we would reference it as set.attribute_name.\n",
    "\n",
    "2. When we add a method(function) to a class, you must have self as the first argument of tht function. but when you call a fun"
   ]
  },
  {
   "cell_type": "code",
   "execution_count": 16,
   "id": "e942e558",
   "metadata": {},
   "outputs": [],
   "source": [
    "# if we do not have to call the initilliaation function we can use an initializer with  __init__\n",
    "# everything inside __init__ will automatically be run when an object is declared\n",
    "\n",
    "class Pet:\n",
    "    def __init__(self, animal_type, name, age, weight_lbs, color):     # INITIALIZER\n",
    "        self.animal = animal_type    # assign some attributes values fro the input argument of the initializer.\n",
    "        self.name = name\n",
    "        self.age = age\n",
    "        self.weight_lbs = weight_lbs\n",
    "        self.color = color\n",
    "        self.weight_kg = self.calc_weight_in_kg() # automatically run a method...still donot feed self to the call\n",
    "        \n",
    "    def calc_weight_in_kg(self): #remember to give self as an input...even though we donot use it when we call.\n",
    "        return 0.453592*self.weight_lbs\n",
    "    def describe_pet(self):   \n",
    "        print(\"This pet is a\", self.color, self.animal, )\n",
    "        print(\"This pet/'s name is\", self.name, \"and it is\", self.age, \"years old\")\n",
    "        print(\"This pet weighs\", self.weight_lbs, \"pounds, which is\", round(self.weight_kg, 2), \"kilograms\")\n",
    "#                                                                       round the no kilograms till 2 decimal places."
   ]
  },
  {
   "cell_type": "code",
   "execution_count": 17,
   "id": "ff226f49",
   "metadata": {},
   "outputs": [
    {
     "name": "stdout",
     "output_type": "stream",
     "text": [
      "This pet is a orange cat\n",
      "This pet/'s name is Mittens and it is 3 years old\n",
      "This pet weighs 7 pounds, which is 3.18 kilograms\n",
      "\n",
      "This pet is a brown dog\n",
      "This pet/'s name is Spot and it is 9 years old\n",
      "This pet weighs 18 pounds, which is 8.16 kilograms\n"
     ]
    }
   ],
   "source": [
    "# Now will create two object of the class Pet\n",
    "\n",
    "my_cat = Pet(\"cat\", \"Mittens\", 3, 7, \"orange\")\n",
    "my_dog = Pet(\"dog\", \"Spot\", 9 ,18, \"brown\")\n",
    "my_cat.describe_pet()\n",
    "print('')\n",
    "my_dog.describe_pet()"
   ]
  },
  {
   "cell_type": "code",
   "execution_count": 18,
   "id": "c2b2d0fe",
   "metadata": {},
   "outputs": [
    {
     "name": "stdout",
     "output_type": "stream",
     "text": [
      "orange\n",
      "9\n"
     ]
    }
   ],
   "source": [
    "# We can also access the attributes of the class from outside because they were declared using self!\n",
    "print(my_cat.color)\n",
    "print(my_dog.age)"
   ]
  },
  {
   "cell_type": "code",
   "execution_count": 19,
   "id": "ea8cb5ea",
   "metadata": {},
   "outputs": [
    {
     "name": "stdout",
     "output_type": "stream",
     "text": [
      "5\n",
      "3.175144\n"
     ]
    }
   ],
   "source": [
    "# I can even change the values of attributes from outside\n",
    "my_cat.weight_lbs = 5\n",
    "print(my_cat.weight_lbs)\n",
    "print(my_cat.weight_kg)"
   ]
  },
  {
   "cell_type": "code",
   "execution_count": 23,
   "id": "a219f280",
   "metadata": {},
   "outputs": [
    {
     "name": "stdout",
     "output_type": "stream",
     "text": [
      "2.26796\n",
      "8.164656\n",
      "3.175144\n",
      "2.26796\n"
     ]
    }
   ],
   "source": [
    "# we can also access methods from outside \n",
    "\n",
    "print(my_cat.calc_weight_in_kg())\n",
    "print(my_dog.calc_weight_in_kg())\n",
    "print(my_cat.weight_kg)\n",
    "my_cat.weight_kg = my_cat.calc_weight_in_kg()\n",
    "print(my_cat.weight_kg)"
   ]
  },
  {
   "cell_type": "markdown",
   "id": "fce8b824",
   "metadata": {},
   "source": [
    "## Exmmple on OOPS"
   ]
  },
  {
   "cell_type": "code",
   "execution_count": 2,
   "id": "991d9139",
   "metadata": {},
   "outputs": [
    {
     "name": "stdout",
     "output_type": "stream",
     "text": [
      "1.7\n",
      " \n",
      "3.74\n"
     ]
    }
   ],
   "source": [
    "# the name of the data type (class) must always start with a capital letter.\n",
    "\n",
    "class My_data_type:   #first letter capitalized\n",
    "    \n",
    "    def init_some_vals(self, val2):        # Self is first argument of function\n",
    "        self.first_var = 1.7               # atttributes named self.attribute_name \n",
    "        self.second_var = val2             # this function doesnot return anything...it just sets some attribute values\n",
    "    \n",
    "    def multiply_vals(self):               # another internal method, but this one does return a value. \n",
    "        return self.first_var * self.second_var\n",
    "    \n",
    "me = My_data_type()              # Declared an object of a class My_data_type\n",
    "me.init_some_vals(2.2)          # Donot give self as an input\n",
    "print(me.first_var)              # access atributes\n",
    "print(\" \")\n",
    "print(me.multiply_vals())         # run a method"
   ]
  },
  {
   "cell_type": "code",
   "execution_count": 5,
   "id": "acfe76bf",
   "metadata": {},
   "outputs": [
    {
     "name": "stdout",
     "output_type": "stream",
     "text": [
      "1.7\n"
     ]
    }
   ],
   "source": [
    "# print(self.first_var)   # Self is used only inside the class defination\n",
    "\n",
    "# NameError: name 'self' is not defined\n",
    "\n",
    "print(me.first_var)"
   ]
  },
  {
   "cell_type": "code",
   "execution_count": 6,
   "id": "ab13bdc5",
   "metadata": {},
   "outputs": [
    {
     "name": "stdout",
     "output_type": "stream",
     "text": [
      "231.3\n"
     ]
    }
   ],
   "source": [
    "# we can also add attributes to an object outside of the class definition\n",
    "\n",
    "me.third_var = 231.3\n",
    "print(me.third_var)\n",
    "\n",
    "# THIS IS A BAD PRACTICE THOUGH\n",
    "# WE WANT EACH OBJECT OF THE SAME CLASS TO HAVE THE SAME ATTRIBUTES (NOT VALUES OF ATTRIBUTES)\n",
    "# SO THAT IT IS INTERNALLY CONSISTENT.\n",
    "# IN MANY LANGUAGES IT IS NOT POSSIBLE TO ADD ATTRIBUTES FROM OUTSIDE THE CLASS DEFINATION FOR THIS VERY REASON "
   ]
  },
  {
   "cell_type": "code",
   "execution_count": 8,
   "id": "25b59ee4",
   "metadata": {},
   "outputs": [
    {
     "name": "stdout",
     "output_type": "stream",
     "text": [
      "10.37\n"
     ]
    }
   ],
   "source": [
    "you = My_data_type()\n",
    "you.init_some_vals(6.1)\n",
    "# print(you.third_var)\n",
    "# AttributeError: 'My_data_type' object has no attribute 'third_var'\n",
    "print(you.multiply_vals())"
   ]
  },
  {
   "cell_type": "code",
   "execution_count": null,
   "id": "f91b304e",
   "metadata": {},
   "outputs": [],
   "source": []
  }
 ],
 "metadata": {
  "kernelspec": {
   "display_name": "Python 3 (ipykernel)",
   "language": "python",
   "name": "python3"
  },
  "language_info": {
   "codemirror_mode": {
    "name": "ipython",
    "version": 3
   },
   "file_extension": ".py",
   "mimetype": "text/x-python",
   "name": "python",
   "nbconvert_exporter": "python",
   "pygments_lexer": "ipython3",
   "version": "3.11.3"
  }
 },
 "nbformat": 4,
 "nbformat_minor": 5
}
