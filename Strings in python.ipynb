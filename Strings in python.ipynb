{
 "cells": [
  {
   "cell_type": "markdown",
   "id": "4d74cb9f",
   "metadata": {},
   "source": [
    "## Strings\n",
    "\n",
    "Anything between the single or double quotes in python code is considered as ‘strings’ or ‘str’.\n",
    "\n",
    "A string is just a collection of characters (numbers, alphabets, special char etc) within single or\n",
    "double quotes."
   ]
  },
  {
   "cell_type": "markdown",
   "id": "2bebe19c",
   "metadata": {},
   "source": [
    "String1 = 'Hello, Great Learning'\n",
    "\n",
    "String2 = \"Hello, Great Learning\""
   ]
  },
  {
   "cell_type": "markdown",
   "id": "cf29caba",
   "metadata": {},
   "source": [
    "There is a keyword ‘str’\n",
    "\n",
    "str"
   ]
  },
  {
   "cell_type": "code",
   "execution_count": 2,
   "id": "23b5d1be",
   "metadata": {},
   "outputs": [
    {
     "data": {
      "text/plain": [
       "'1234'"
      ]
     },
     "execution_count": 2,
     "metadata": {},
     "output_type": "execute_result"
    }
   ],
   "source": [
    "# To convert any data point to string , use str(data_point)\n",
    "number= 1234\n",
    "str(number) # will give output as ‘1234’\n"
   ]
  },
  {
   "cell_type": "code",
   "execution_count": 4,
   "id": "1b4141c7",
   "metadata": {},
   "outputs": [],
   "source": [
    "# The below code will give error as single quoted 1 will not be identified as a numeric value\n",
    "# '1'+ 1\n"
   ]
  },
  {
   "cell_type": "code",
   "execution_count": 5,
   "id": "97bc02eb",
   "metadata": {},
   "outputs": [
    {
     "data": {
      "text/plain": [
       "'11'"
      ]
     },
     "execution_count": 5,
     "metadata": {},
     "output_type": "execute_result"
    }
   ],
   "source": [
    "# This will concatenate the two strings\n",
    "'1'+'1' # will give '11'\n"
   ]
  },
  {
   "cell_type": "code",
   "execution_count": null,
   "id": "370aaeed",
   "metadata": {},
   "outputs": [],
   "source": []
  }
 ],
 "metadata": {
  "kernelspec": {
   "display_name": "Python 3 (ipykernel)",
   "language": "python",
   "name": "python3"
  },
  "language_info": {
   "codemirror_mode": {
    "name": "ipython",
    "version": 3
   },
   "file_extension": ".py",
   "mimetype": "text/x-python",
   "name": "python",
   "nbconvert_exporter": "python",
   "pygments_lexer": "ipython3",
   "version": "3.11.3"
  }
 },
 "nbformat": 4,
 "nbformat_minor": 5
}
