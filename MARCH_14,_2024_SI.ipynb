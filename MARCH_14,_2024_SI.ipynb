{
  "nbformat": 4,
  "nbformat_minor": 0,
  "metadata": {
    "colab": {
      "provenance": []
    },
    "kernelspec": {
      "name": "python3",
      "display_name": "Python 3"
    },
    "language_info": {
      "name": "python"
    }
  },
  "cells": [
    {
      "cell_type": "code",
      "execution_count": null,
      "metadata": {
        "id": "SS47s5eMII8x"
      },
      "outputs": [],
      "source": [
        "# fashion_mnist = tf.keras.datasets.fashion_mnist\n",
        "\n",
        "# (train_images, train_labels), (test_images, test_labels) = fashion_mnist.load_data()"
      ]
    },
    {
      "cell_type": "code",
      "source": [
        "# model = tf.keras.Sequential([keras.layer.Flatten(),\n",
        "#                              keras.layers.Dense(128,activation = tf.nn.relu),\n",
        "#                              keras.layers.Dense(10,activation = tf.nn.softmax)])  # 10 clssses are there-- neurons we can say\n",
        "\n",
        "\n",
        "# # flatten high dimension to lowdimension"
      ],
      "metadata": {
        "id": "IuWZ4SUGJyaC"
      },
      "execution_count": null,
      "outputs": []
    },
    {
      "cell_type": "code",
      "source": [
        "## inputs\n",
        "\n",
        "import tensorflow as tf\n",
        "from tensorflow import keras\n"
      ],
      "metadata": {
        "id": "_Qly2Q-qMUsw"
      },
      "execution_count": 6,
      "outputs": []
    },
    {
      "cell_type": "code",
      "source": [
        "fashion_mnist = tf.keras.datasets.fashion_mnist\n",
        "\n",
        "(train_images, train_labels), (test_images, test_labels) = fashion_mnist.load_data()"
      ],
      "metadata": {
        "id": "YxPg5qrJMhkY"
      },
      "execution_count": 7,
      "outputs": []
    },
    {
      "cell_type": "code",
      "source": [
        "## Normalize the data Xtrain, ytest = train_images/255.0, test_images/255.0\n",
        "# -- divide by 2550\n",
        "\n",
        "X_train, y_test = train_images/255.0, test_images/255.0\n"
      ],
      "metadata": {
        "id": "skYDEsvCNC19"
      },
      "execution_count": 8,
      "outputs": []
    },
    {
      "cell_type": "code",
      "source": [
        "model = keras.Sequential([keras.layers.Flatten(input_shape = (28, 28)),\n",
        "                          keras.layers.Dense(512,activation = tf.nn.relu),\n",
        "                          keras.layers.Dense(10,activation = tf.nn.softmax)])\n",
        "\n",
        "# 10 clssses are there-- neurons we can say\n",
        "# flatten high dimension to lowdimension"
      ],
      "metadata": {
        "id": "xFK-R6IkPizg"
      },
      "execution_count": 11,
      "outputs": []
    },
    {
      "cell_type": "code",
      "source": [
        "model.compile(optimizer = \"Adam\", loss = \"mean_squared_error\", metrics = [\"accuracy\"] )\n",
        "model.fit(train_images, train_labels ,epochs = 10)"
      ],
      "metadata": {
        "colab": {
          "base_uri": "https://localhost:8080/"
        },
        "id": "f_jMoX22Qakj",
        "outputId": "70717734-4c60-4d0d-af90-87d159dec146"
      },
      "execution_count": 15,
      "outputs": [
        {
          "output_type": "stream",
          "name": "stdout",
          "text": [
            "Epoch 1/10\n",
            "1875/1875 [==============================] - 15s 8ms/step - loss: 27.7000 - accuracy: 0.1000\n",
            "Epoch 2/10\n",
            "1875/1875 [==============================] - 14s 7ms/step - loss: 27.7000 - accuracy: 0.1000\n",
            "Epoch 3/10\n",
            "1875/1875 [==============================] - 15s 8ms/step - loss: 27.7000 - accuracy: 0.1000\n",
            "Epoch 4/10\n",
            "1875/1875 [==============================] - 15s 8ms/step - loss: 27.7000 - accuracy: 0.1000\n",
            "Epoch 5/10\n",
            "1875/1875 [==============================] - 14s 8ms/step - loss: 27.7000 - accuracy: 0.1000\n",
            "Epoch 6/10\n",
            "1875/1875 [==============================] - 14s 8ms/step - loss: 27.7000 - accuracy: 0.1000\n",
            "Epoch 7/10\n",
            "1875/1875 [==============================] - 15s 8ms/step - loss: 27.7000 - accuracy: 0.1000\n",
            "Epoch 8/10\n",
            "1875/1875 [==============================] - 14s 8ms/step - loss: 27.7000 - accuracy: 0.1000\n",
            "Epoch 9/10\n",
            "1875/1875 [==============================] - 14s 8ms/step - loss: 27.7000 - accuracy: 0.1000\n",
            "Epoch 10/10\n",
            "1875/1875 [==============================] - 14s 7ms/step - loss: 27.7000 - accuracy: 0.1000\n"
          ]
        },
        {
          "output_type": "execute_result",
          "data": {
            "text/plain": [
              "<keras.src.callbacks.History at 0x7ebe009a5cc0>"
            ]
          },
          "metadata": {},
          "execution_count": 15
        }
      ]
    },
    {
      "cell_type": "code",
      "source": [],
      "metadata": {
        "id": "i01A6ctEVAv5"
      },
      "execution_count": null,
      "outputs": []
    }
  ]
}