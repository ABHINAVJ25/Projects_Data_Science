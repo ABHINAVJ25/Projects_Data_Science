{
 "cells": [
  {
   "cell_type": "markdown",
   "id": "8592681e",
   "metadata": {},
   "source": [
    "## Numpy\n",
    "numpy is a python's package for doingmath that is more advanced than +-*/.\n",
    "\n",
    "this include functions like cosine exponential and squareroot...\n",
    "\n",
    "on top of this we can use numpy to generate samples for many types of random variables\n",
    "\n",
    "numpy also have a powerful data type to define vector, matricies and tensors\n",
    "\n",
    "with these data types numpy also allows us to do linear algebra - matrix-multiplication and matrix vector solutions"
   ]
  },
  {
   "cell_type": "code",
   "execution_count": 1,
   "id": "15a3ba28",
   "metadata": {},
   "outputs": [],
   "source": [
    "# the first step of using numpy is to tell python to use it\n",
    "import numpy as np"
   ]
  },
  {
   "cell_type": "code",
   "execution_count": 2,
   "id": "815c102f",
   "metadata": {},
   "outputs": [
    {
     "name": "stdout",
     "output_type": "stream",
     "text": [
      "-1.0\n",
      "1.1\n",
      "5.2\n"
     ]
    }
   ],
   "source": [
    "print(np.cos(np.pi))\n",
    "print(np.sqrt(1.21))\n",
    "print(np.log(np.exp(5.2)))"
   ]
  },
  {
   "cell_type": "code",
   "execution_count": 3,
   "id": "ad40a3b7",
   "metadata": {},
   "outputs": [
    {
     "name": "stdout",
     "output_type": "stream",
     "text": [
      "[1 2 3]\n",
      "\n",
      "[[1 2 1]\n",
      " [4 5 9]\n",
      " [1 8 9]]\n",
      "\n",
      "[[1 4 1]\n",
      " [2 5 8]\n",
      " [1 9 9]]\n"
     ]
    }
   ],
   "source": [
    "# we can create numpy arrays by converting list\n",
    "# this is a vector\n",
    "vec = np.array([1, 2, 3])\n",
    "print(vec)\n",
    "# we can create matricies by converting lists of lists\n",
    "mat = np.array([[1, 2, 1], [4, 5, 9], [1, 8, 9]])\n",
    "print('')\n",
    "print(mat)\n",
    "print('')\n",
    "print(mat.T)"
   ]
  },
  {
   "cell_type": "code",
   "execution_count": 4,
   "id": "9ca73d0f",
   "metadata": {},
   "outputs": [
    {
     "name": "stdout",
     "output_type": "stream",
     "text": [
      "[ 0  1  2  3  4  5  6  7  8  9 10 11 12 13 14]\n",
      "\n",
      "[ 3  9 15]\n"
     ]
    }
   ],
   "source": [
    "# there are lots of other ways to create numpy arrays\n",
    "vec2 = np.arange(0, 15)\n",
    "print(vec2)\n",
    "print('')\n",
    "vec3=np.arange(3, 21, 6)\n",
    "print(vec3)"
   ]
  },
  {
   "cell_type": "code",
   "execution_count": 5,
   "id": "4a025296",
   "metadata": {},
   "outputs": [
    {
     "name": "stdout",
     "output_type": "stream",
     "text": [
      "[ 0  1  2  3  4  5  6  7  8  9 10 11 12 13 14]\n",
      "[ 3  9 15]\n"
     ]
    }
   ],
   "source": [
    "# there are lots of other ways to create numpy arrays\n",
    "vec2 = np.arange(0, 15)\n",
    "print(vec2)\n",
    "# print('')\n",
    "vec3=np.arange(3, 21, 6)\n",
    "print(vec3)"
   ]
  },
  {
   "cell_type": "code",
   "execution_count": 6,
   "id": "23cdc5ca",
   "metadata": {},
   "outputs": [
    {
     "name": "stdout",
     "output_type": "stream",
     "text": [
      "[0.         0.55555556 1.11111111 1.66666667 2.22222222 2.77777778\n",
      " 3.33333333 3.88888889 4.44444444 5.        ]\n",
      "\n",
      "[[0.         0.55555556]\n",
      " [1.11111111 1.66666667]\n",
      " [2.22222222 2.77777778]\n",
      " [3.33333333 3.88888889]\n",
      " [4.44444444 5.        ]]\n"
     ]
    }
   ],
   "source": [
    "# in numpy np.linspace it is a numpy function where we have to pass three parameters in that \n",
    "# for example\n",
    "vec4 = np.linspace(0, 5, 10)\n",
    "# here np.linspace(0, 5, 10) 0 and 5 both the elements are inclusive and here 10 specifies that including 0 and 5 we mark 10 points\n",
    "print(vec4)\n",
    "print('')\n",
    "print(vec4.reshape(5, 2)) #(i, j) i.e., 5 horizontal rows and 2 vertica columns"
   ]
  },
  {
   "cell_type": "code",
   "execution_count": 44,
   "id": "02c523ca",
   "metadata": {},
   "outputs": [
    {
     "name": "stdout",
     "output_type": "stream",
     "text": [
      "[0.         0.55555556 1.11111111 1.66666667 2.22222222 2.77777778\n",
      " 3.33333333 3.88888889 4.44444444 5.        ]\n",
      "\n",
      "[[0.         0.55555556]\n",
      " [1.11111111 1.66666667]\n",
      " [2.22222222 2.77777778]\n",
      " [3.33333333 3.88888889]\n",
      " [4.44444444 5.        ]]\n",
      "\n",
      "[[0.         0.55555556]\n",
      " [1.11111111 1.66666667]\n",
      " [2.22222222 2.77777778]\n",
      " [3.33333333 3.88888889]\n",
      " [4.44444444 5.        ]]\n",
      "\n",
      "[0.         0.55555556 1.11111111 1.66666667 2.22222222 2.77777778\n",
      " 3.33333333 3.88888889 4.44444444 5.        ]\n"
     ]
    }
   ],
   "source": [
    "# linspace is a method which will give us [p3] points. Points will include [p1] and [p3]\n",
    "# syntax --> np.linspace(p1, p2, p3)\n",
    "\n",
    "vec4 = np.linspace(0, 5, 10)\n",
    "print(vec4)\n",
    "print('')\n",
    "print(vec4.reshape(5, 2))\n",
    "print('')\n",
    "vec4_reshaped = vec4.reshape(5, 2)\n",
    "print(vec4_reshaped)\n",
    "print('')\n",
    "print(vec4)"
   ]
  },
  {
   "cell_type": "code",
   "execution_count": 8,
   "id": "23aecff0",
   "metadata": {},
   "outputs": [
    {
     "name": "stdout",
     "output_type": "stream",
     "text": [
      "[[ 0  1  2]\n",
      " [ 3  4  5]\n",
      " [ 6  7  8]\n",
      " [ 9 10 11]]\n"
     ]
    }
   ],
   "source": [
    "vec5 = np.arange(0, 12)\n",
    "vec6 = vec5.reshape(4, 3)\n",
    "print(vec6)"
   ]
  },
  {
   "cell_type": "code",
   "execution_count": 9,
   "id": "a1d5c743",
   "metadata": {},
   "outputs": [
    {
     "name": "stdout",
     "output_type": "stream",
     "text": [
      "[[0. 0. 0.]\n",
      " [0. 0. 0.]\n",
      " [0. 0. 0.]\n",
      " [0. 0. 0.]\n",
      " [0. 0. 0.]]\n",
      "\n",
      "[[1. 1. 1. 1. 1.]\n",
      " [1. 1. 1. 1. 1.]\n",
      " [1. 1. 1. 1. 1.]]\n",
      "\n",
      "[[1. 0. 0. 0. 0.]\n",
      " [0. 1. 0. 0. 0.]\n",
      " [0. 0. 1. 0. 0.]\n",
      " [0. 0. 0. 1. 0.]\n",
      " [0. 0. 0. 0. 1.]]\n"
     ]
    }
   ],
   "source": [
    "mat2 = np.zeros([5, 3])\n",
    "print(mat2)\n",
    "mat3 = np.ones([3, 5])\n",
    "print('') # used for enter or a line space between two lines\n",
    "print(mat3)\n",
    "mat4 = np.eye(5)\n",
    "print('')\n",
    "print(mat4)"
   ]
  },
  {
   "cell_type": "code",
   "execution_count": 45,
   "id": "67b5919b",
   "metadata": {},
   "outputs": [
    {
     "name": "stdout",
     "output_type": "stream",
     "text": [
      "[1 2 3 4 5]\n",
      "\n",
      "[3 4 5 6 7]\n",
      "\n",
      "[ 4  6  8 10 12]\n",
      "\n",
      "[ 3  8 15 24 35]\n",
      "\n",
      "[1.         0.5        0.33333333 0.25       0.2       ]\n",
      "\n",
      "[1.73205081 2.         2.23606798 2.44948974 2.64575131]\n"
     ]
    }
   ],
   "source": [
    "vec7 = np.arange(1, 6)\n",
    "vec8 = np.arange(3, 8)\n",
    "print(vec7)\n",
    "print('')\n",
    "print(vec8)\n",
    "print('')\n",
    "print(vec7 + vec8)\n",
    "print('')\n",
    "print(vec7 * vec8)\n",
    "print('')\n",
    "print(1/vec7)\n",
    "print('')\n",
    "print(np.sqrt(vec8))"
   ]
  },
  {
   "cell_type": "code",
   "execution_count": 11,
   "id": "5b0e0f93",
   "metadata": {},
   "outputs": [
    {
     "name": "stdout",
     "output_type": "stream",
     "text": [
      "[[1 2 1]\n",
      " [4 5 9]\n",
      " [1 8 9]]\n",
      "\n",
      "[1 2 3]\n",
      "\n",
      "[ 8 41 44]\n"
     ]
    }
   ],
   "source": [
    "# we can do matrix multiplication by [np.matmul(mat[p1], vec[p2])]\n",
    "print(mat)\n",
    "print('')\n",
    "print(vec)\n",
    "print('')\n",
    "product = np.matmul(mat, vec)\n",
    "print(product)"
   ]
  },
  {
   "cell_type": "code",
   "execution_count": 12,
   "id": "7cf5f744",
   "metadata": {},
   "outputs": [
    {
     "name": "stdout",
     "output_type": "stream",
     "text": [
      "[1. 2. 3.]\n",
      "\n",
      "[[ 0.5         0.18518519 -0.24074074]\n",
      " [ 0.5        -0.14814815  0.09259259]\n",
      " [-0.5         0.11111111  0.05555556]]\n"
     ]
    }
   ],
   "source": [
    "print(np.linalg.solve(mat, product))\n",
    "print('')\n",
    "print(np.linalg.inv(mat))"
   ]
  },
  {
   "cell_type": "code",
   "execution_count": 13,
   "id": "aab42561",
   "metadata": {},
   "outputs": [
    {
     "name": "stdout",
     "output_type": "stream",
     "text": [
      "['blue' 'red' 'orange' 'purple' 'purple' 'orange' 'Red' '6']\n",
      "['6' 'Red' 'blue' 'orange' 'purple' 'red']\n"
     ]
    }
   ],
   "source": [
    "# we can find unique values in array\n",
    "vec9 = np.array(['blue', 'red', 'orange', 'purple', 'purple', 'orange', 'Red', 6])\n",
    "print(vec9)\n",
    "print(np.unique(vec9))"
   ]
  },
  {
   "cell_type": "code",
   "execution_count": 14,
   "id": "868a7eb5",
   "metadata": {},
   "outputs": [
    {
     "name": "stdout",
     "output_type": "stream",
     "text": [
      "[[0.63873213 0.08743931 0.68049776 0.01872565 0.52460384]\n",
      " [0.66825456 0.22848056 0.09490339 0.80993957 0.0859702 ]\n",
      " [0.98924489 0.8818624  0.53633425 0.76916981 0.58910499]\n",
      " [0.99194567 0.66096447 0.18021304 0.91631645 0.22382144]\n",
      " [0.62730259 0.1250671  0.17493251 0.53251293 0.68937022]]\n",
      "\n",
      "[[-1.83843456 -0.53191667  0.81004922  0.61520781  1.54005593]\n",
      " [-0.13952177  0.86869515 -0.32003926 -1.16984612 -0.70826826]\n",
      " [-0.63920301  0.49328531 -0.53481833 -0.56665943 -0.74996549]\n",
      " [ 1.23551594 -0.32509051  0.0360156  -2.1544921   0.41092446]\n",
      " [-4.09786885  0.06614997 -0.56081793 -1.97681802  1.61724669]\n",
      " [ 0.6510299   1.00285711  0.07419135 -0.21801023  0.58343801]\n",
      " [-1.26834558  0.52460601 -0.12814393  0.80806384 -0.40342443]\n",
      " [ 2.20188858 -0.72986656 -1.7056969   1.13112775  0.5355598 ]\n",
      " [-0.77963068 -0.77712785 -0.9925865  -0.66728535 -1.30968025]\n",
      " [-1.09038537 -0.15108762  1.13078571 -0.4003506  -0.59723415]]\n"
     ]
    }
   ],
   "source": [
    "# we can also use numpy to generate samples of a random variable\n",
    "rand_mat = np.random.rand(5, 5) #uniform random variable\n",
    "print(rand_mat)\n",
    "rand_mat2 = np.random.randn(10, 5) #standard normal random variable\n",
    "print('')\n",
    "print(rand_mat2)"
   ]
  },
  {
   "cell_type": "code",
   "execution_count": 15,
   "id": "b7c86497",
   "metadata": {},
   "outputs": [
    {
     "name": "stdout",
     "output_type": "stream",
     "text": [
      "0.5090283897019895\n",
      "1.1042644173218217\n"
     ]
    }
   ],
   "source": [
    "# we can also use numpy for statistical tools on array\n",
    "print(np.mean(rand_mat))\n",
    "print(np.std(rand_mat2))"
   ]
  },
  {
   "cell_type": "code",
   "execution_count": 16,
   "id": "33fa3f4e",
   "metadata": {},
   "outputs": [
    {
     "name": "stdout",
     "output_type": "stream",
     "text": [
      "0.01872565350713551\n",
      "2.201888582831358\n"
     ]
    }
   ],
   "source": [
    "print(np.min(rand_mat))\n",
    "print(np.max(rand_mat2))"
   ]
  },
  {
   "cell_type": "code",
   "execution_count": 17,
   "id": "94a3d546",
   "metadata": {},
   "outputs": [
    {
     "name": "stdout",
     "output_type": "stream",
     "text": [
      "[ 1.18990158e-03 -1.37250608e-01  4.27301846e-02  7.87430306e-01\n",
      " -5.71862015e-01 -8.54015534e-01 -1.30783241e+00  1.08659092e-01\n",
      " -2.06988974e+00 -7.29072482e-01 -1.34737513e-01 -2.07356625e-01\n",
      " -5.76575274e-02  6.62266326e-01  1.54688584e+00 -3.93125562e-01\n",
      "  4.07408713e-01  7.42348713e-01  1.44272549e+00]\n",
      "\n",
      "-1.3078324140082853\n"
     ]
    }
   ],
   "source": [
    "# how do we access entries in a numpy vector\n",
    "rand_vec = np.random.randn(19)\n",
    "print(rand_vec)\n",
    "print('')\n",
    "print(rand_vec[6])"
   ]
  },
  {
   "cell_type": "code",
   "execution_count": 18,
   "id": "a2765f28",
   "metadata": {},
   "outputs": [
    {
     "name": "stdout",
     "output_type": "stream",
     "text": [
      "[-0.57186201 -0.85401553 -1.30783241  0.10865909 -2.06988974]\n"
     ]
    }
   ],
   "source": [
    "# we can access multiple entries at once using :\n",
    "print(rand_vec[4 : 9])"
   ]
  },
  {
   "cell_type": "code",
   "execution_count": 19,
   "id": "a224beac",
   "metadata": {},
   "outputs": [
    {
     "name": "stdout",
     "output_type": "stream",
     "text": [
      "[ 0  3  6  9 12]\n",
      "[ 1.18990158e-03  7.87430306e-01 -1.30783241e+00 -7.29072482e-01\n",
      " -5.76575274e-02]\n"
     ]
    }
   ],
   "source": [
    "# we can also access multiple non-consecutive entries using arange\n",
    "print(np.arange(0, 15, 3))\n",
    "print(rand_vec[np.arange(0, 15, 3)])"
   ]
  },
  {
   "cell_type": "code",
   "execution_count": 20,
   "id": "61c57f3d",
   "metadata": {},
   "outputs": [
    {
     "name": "stdout",
     "output_type": "stream",
     "text": [
      "[[0.63873213 0.08743931 0.68049776 0.01872565 0.52460384]\n",
      " [0.66825456 0.22848056 0.09490339 0.80993957 0.0859702 ]\n",
      " [0.98924489 0.8818624  0.53633425 0.76916981 0.58910499]\n",
      " [0.99194567 0.66096447 0.18021304 0.91631645 0.22382144]\n",
      " [0.62730259 0.1250671  0.17493251 0.53251293 0.68937022]]\n",
      "\n",
      "0.09490339214955401\n",
      "\n",
      "0.09490339214955401\n"
     ]
    }
   ],
   "source": [
    "# what about matrices\n",
    "print(rand_mat)\n",
    "print('')\n",
    "print(rand_mat[1][2]) # second row and third column\n",
    "print('')\n",
    "print(rand_mat[1, 2])"
   ]
  },
  {
   "cell_type": "code",
   "execution_count": 21,
   "id": "06bd988a",
   "metadata": {},
   "outputs": [
    {
     "name": "stdout",
     "output_type": "stream",
     "text": [
      "[[0.08743931 0.68049776]\n",
      " [0.22848056 0.09490339]]\n"
     ]
    }
   ],
   "source": [
    "print(rand_mat[0:2, 1:3])"
   ]
  },
  {
   "cell_type": "code",
   "execution_count": 22,
   "id": "304efc2f",
   "metadata": {},
   "outputs": [
    {
     "name": "stdout",
     "output_type": "stream",
     "text": [
      "[ 1.18990158e-03 -1.37250608e-01  4.27301846e-02  7.87430306e-01\n",
      " -5.71862015e-01 -8.54015534e-01 -1.30783241e+00  1.08659092e-01\n",
      " -2.06988974e+00 -7.29072482e-01 -1.34737513e-01 -2.07356625e-01\n",
      " -5.76575274e-02  6.62266326e-01  1.54688584e+00 -3.93125562e-01\n",
      "  4.07408713e-01  7.42348713e-01  1.44272549e+00]\n",
      "\n",
      "[ 1.18990158e-03 -1.37250608e-01  4.27301846e-02  4.00000000e+00\n",
      "  4.00000000e+00 -8.54015534e-01 -1.30783241e+00  1.08659092e-01\n",
      " -2.06988974e+00 -7.29072482e-01 -1.34737513e-01 -2.07356625e-01\n",
      " -5.76575274e-02  6.62266326e-01  1.54688584e+00 -3.93125562e-01\n",
      "  4.07408713e-01  7.42348713e-01  1.44272549e+00]\n",
      "\n",
      "[ 1.18990158e-03 -1.37250608e-01  4.27301846e-02  1.00000000e+00\n",
      "  2.00000000e+00 -8.54015534e-01 -1.30783241e+00  1.08659092e-01\n",
      " -2.06988974e+00 -7.29072482e-01 -1.34737513e-01 -2.07356625e-01\n",
      " -5.76575274e-02  6.62266326e-01  1.54688584e+00 -3.93125562e-01\n",
      "  4.07408713e-01  7.42348713e-01  1.44272549e+00]\n"
     ]
    }
   ],
   "source": [
    "# let us change some values in an array\n",
    "print(rand_vec)\n",
    "rand_vec[3:5] = 4\n",
    "print('')\n",
    "print(rand_vec)\n",
    "rand_vec[3:5] = [1, 2]\n",
    "print('')\n",
    "print(rand_vec)"
   ]
  },
  {
   "cell_type": "code",
   "execution_count": 23,
   "id": "45fe32b6",
   "metadata": {},
   "outputs": [
    {
     "name": "stdout",
     "output_type": "stream",
     "text": [
      "[[0.63873213 0.08743931 0.68049776 0.01872565 0.52460384]\n",
      " [0.66825456 0.22848056 0.09490339 0.80993957 0.0859702 ]\n",
      " [0.98924489 0.8818624  0.53633425 0.76916981 0.58910499]\n",
      " [0.99194567 0.66096447 0.18021304 0.91631645 0.22382144]\n",
      " [0.62730259 0.1250671  0.17493251 0.53251293 0.68937022]]\n",
      "\n",
      "[[0.63873213 0.08743931 0.68049776 0.01872565 0.52460384]\n",
      " [0.66825456 0.22848056 0.09490339 0.         0.        ]\n",
      " [0.98924489 0.8818624  0.53633425 0.         0.        ]\n",
      " [0.99194567 0.66096447 0.18021304 0.91631645 0.22382144]\n",
      " [0.62730259 0.1250671  0.17493251 0.53251293 0.68937022]]\n"
     ]
    }
   ],
   "source": [
    "print(rand_mat)\n",
    "rand_mat[1:3, 3:5] = 0\n",
    "print('')\n",
    "print(rand_mat)"
   ]
  },
  {
   "cell_type": "code",
   "execution_count": 24,
   "id": "5a3a2dca",
   "metadata": {},
   "outputs": [
    {
     "name": "stdout",
     "output_type": "stream",
     "text": [
      "[[0.63873213 0.08743931 0.68049776]\n",
      " [0.66825456 0.22848056 0.09490339]]\n",
      "[[3. 3. 3.]\n",
      " [3. 3. 3.]]\n"
     ]
    }
   ],
   "source": [
    "# we are adding the columns present at index number 0, index number 1 and index number 2 \n",
    "# and rows at index no 0 and index no 1 (these we are adding to sub_mat from rand_mat)\n",
    "sub_mat = rand_mat[0:2, 0:3]\n",
    "print(sub_mat)\n",
    "sub_mat[:] = 3\n",
    "print(sub_mat)"
   ]
  },
  {
   "cell_type": "code",
   "execution_count": 25,
   "id": "fd2741f1",
   "metadata": {},
   "outputs": [
    {
     "name": "stdout",
     "output_type": "stream",
     "text": [
      "[[3.         3.         3.         0.01872565 0.52460384]\n",
      " [3.         3.         3.         0.         0.        ]\n",
      " [0.98924489 0.8818624  0.53633425 0.         0.        ]\n",
      " [0.99194567 0.66096447 0.18021304 0.91631645 0.22382144]\n",
      " [0.62730259 0.1250671  0.17493251 0.53251293 0.68937022]]\n"
     ]
    }
   ],
   "source": [
    "print(rand_mat)"
   ]
  },
  {
   "cell_type": "code",
   "execution_count": 26,
   "id": "87e11161",
   "metadata": {},
   "outputs": [
    {
     "name": "stdout",
     "output_type": "stream",
     "text": [
      "[[99. 99. 99.]\n",
      " [99. 99. 99.]]\n",
      "\n",
      "[[3.         3.         3.         0.01872565 0.52460384]\n",
      " [3.         3.         3.         0.         0.        ]\n",
      " [0.98924489 0.8818624  0.53633425 0.         0.        ]\n",
      " [0.99194567 0.66096447 0.18021304 0.91631645 0.22382144]\n",
      " [0.62730259 0.1250671  0.17493251 0.53251293 0.68937022]]\n"
     ]
    }
   ],
   "source": [
    "sub_mat2 = rand_mat[0:2, 0:3].copy()\n",
    "sub_mat2[:] = 99\n",
    "print(sub_mat2)\n",
    "print('')\n",
    "print(rand_mat)"
   ]
  },
  {
   "cell_type": "markdown",
   "id": "7cd32b07",
   "metadata": {},
   "source": [
    "# test your understanding "
   ]
  },
  {
   "cell_type": "code",
   "execution_count": 27,
   "id": "f14d20cb",
   "metadata": {},
   "outputs": [
    {
     "name": "stdout",
     "output_type": "stream",
     "text": [
      "[10 13 16 19]\n"
     ]
    }
   ],
   "source": [
    "vec = np.arange(10,20)\n",
    "vec2 = vec[np.arange(0, 10, 3)]\n",
    "print(vec2)"
   ]
  },
  {
   "cell_type": "markdown",
   "id": "ed3caa99",
   "metadata": {},
   "source": [
    "# Saving and loading numpy arrays\n",
    "\n"
   ]
  },
  {
   "cell_type": "code",
   "execution_count": 29,
   "id": "fcf596e9",
   "metadata": {},
   "outputs": [
    {
     "name": "stdout",
     "output_type": "stream",
     "text": [
      "[ 1.0594263  -0.42448154  0.13674366  0.4378931   1.34876969  0.93312348\n",
      "  1.61597481  0.07604586 -0.42661076 -0.57254958 -0.40101422 -1.01575721\n",
      "  0.06815247 -1.12433519  0.17487116]\n",
      "\n",
      "[ True False  True  True  True  True  True  True False False False False\n",
      "  True False  True]\n",
      "\n",
      "[1.0594263  0.13674366 0.4378931  1.34876969 0.93312348 1.61597481\n",
      " 0.07604586 0.06815247 0.17487116]\n"
     ]
    }
   ],
   "source": [
    "# we can also access entries with logicals\n",
    "\n",
    "rand_vec = np.random.randn(15)\n",
    "\n",
    "print(rand_vec)\n",
    "print('')\n",
    "print(rand_vec>0)\n",
    "print('')\n",
    "print(rand_vec[rand_vec>0])"
   ]
  },
  {
   "cell_type": "code",
   "execution_count": 31,
   "id": "555336e7",
   "metadata": {},
   "outputs": [
    {
     "name": "stdout",
     "output_type": "stream",
     "text": [
      "[[-1.83843456 -0.53191667  0.81004922  0.61520781  1.54005593]\n",
      " [-0.13952177  0.86869515 -0.32003926 -1.16984612 -0.70826826]\n",
      " [-0.63920301  0.49328531 -0.53481833 -0.56665943 -0.74996549]\n",
      " [ 1.23551594 -0.32509051  0.0360156  -2.1544921   0.41092446]\n",
      " [-4.09786885  0.06614997 -0.56081793 -1.97681802  1.61724669]\n",
      " [ 0.6510299   1.00285711  0.07419135 -0.21801023  0.58343801]\n",
      " [-1.26834558  0.52460601 -0.12814393  0.80806384 -0.40342443]\n",
      " [ 2.20188858 -0.72986656 -1.7056969   1.13112775  0.5355598 ]\n",
      " [-0.77963068 -0.77712785 -0.9925865  -0.66728535 -1.30968025]\n",
      " [-1.09038537 -0.15108762  1.13078571 -0.4003506  -0.59723415]]\n",
      "\n",
      "[0.81004922 0.61520781 1.54005593 0.86869515 0.49328531 1.23551594\n",
      " 0.0360156  0.41092446 0.06614997 1.61724669 0.6510299  1.00285711\n",
      " 0.07419135 0.58343801 0.52460601 0.80806384 2.20188858 1.13112775\n",
      " 0.5355598  1.13078571]\n"
     ]
    }
   ],
   "source": [
    "print(rand_mat2)\n",
    "print('')\n",
    "print(rand_mat2[rand_mat2>0])"
   ]
  },
  {
   "cell_type": "code",
   "execution_count": 32,
   "id": "9794068b",
   "metadata": {},
   "outputs": [
    {
     "name": "stdout",
     "output_type": "stream",
     "text": [
      "[ 1.0594263  -0.42448154  0.13674366  0.4378931   1.34876969  0.93312348\n",
      "  1.61597481  0.07604586 -0.42661076 -0.57254958 -0.40101422 -1.01575721\n",
      "  0.06815247 -1.12433519  0.17487116]\n",
      "\n",
      "[-5.         -0.42448154  0.13674366  0.4378931  -5.         -5.\n",
      " -5.          0.07604586 -0.42661076 -0.57254958 -0.40101422 -1.01575721\n",
      "  0.06815247 -1.12433519  0.17487116]\n"
     ]
    }
   ],
   "source": [
    "# we can assign values using logical indexes\n",
    "print(rand_vec)\n",
    "print('')\n",
    "rand_vec[rand_vec > 0.5] = -5\n",
    "print(rand_vec)"
   ]
  },
  {
   "cell_type": "code",
   "execution_count": 33,
   "id": "53573725",
   "metadata": {},
   "outputs": [],
   "source": [
    "# let us save some arrays on the disk to use them later\n",
    "# np.save --> can save only a single numpy array if we want to save multiple numpy arrays so that we cannot do it.\n",
    "# np.save(p1,p2) p1--> what will be the name of the saved file. p2--> which one array in particular\n",
    "np.save('saved_file_name', rand_mat2)"
   ]
  },
  {
   "cell_type": "code",
   "execution_count": 34,
   "id": "c7db7f0c",
   "metadata": {},
   "outputs": [],
   "source": [
    "# if we want to save more than one numpy arras we have to use np.savez (z here means zip)\n",
    "# np.savez(p1,p2,p3....) --> p1(what would be the file name which is to be zipped) \n",
    "# p2,p3...(the different arrays which you want to be get zipped)\n",
    "\n",
    "np.savez('zipped_file_name', rand_mat = rand_mat, rand_mat2 = rand_mat2)\n",
    "# (rand_mat = rand_mat)the right side one will be  string inside that zipped file. And it is associated with the L.H.S numpy array"
   ]
  },
  {
   "cell_type": "code",
   "execution_count": 36,
   "id": "30e597e3",
   "metadata": {},
   "outputs": [
    {
     "name": "stdout",
     "output_type": "stream",
     "text": [
      "[[-1.83843456 -0.53191667  0.81004922  0.61520781  1.54005593]\n",
      " [-0.13952177  0.86869515 -0.32003926 -1.16984612 -0.70826826]\n",
      " [-0.63920301  0.49328531 -0.53481833 -0.56665943 -0.74996549]\n",
      " [ 1.23551594 -0.32509051  0.0360156  -2.1544921   0.41092446]\n",
      " [-4.09786885  0.06614997 -0.56081793 -1.97681802  1.61724669]\n",
      " [ 0.6510299   1.00285711  0.07419135 -0.21801023  0.58343801]\n",
      " [-1.26834558  0.52460601 -0.12814393  0.80806384 -0.40342443]\n",
      " [ 2.20188858 -0.72986656 -1.7056969   1.13112775  0.5355598 ]\n",
      " [-0.77963068 -0.77712785 -0.9925865  -0.66728535 -1.30968025]\n",
      " [-1.09038537 -0.15108762  1.13078571 -0.4003506  -0.59723415]]\n",
      "\n",
      "<numpy.lib.npyio.NpzFile object at 0x00000201266E4390>\n"
     ]
    }
   ],
   "source": [
    "# now let us load it\n",
    "\n",
    "loaded_vec = np.load('saved_file_name.npy')\n",
    "loaded_zip = np.load('zipped_file_name.npz')\n",
    "\n",
    "print(loaded_vec)\n",
    "print('')\n",
    "print(loaded_zip)"
   ]
  },
  {
   "cell_type": "code",
   "execution_count": 38,
   "id": "333c6736",
   "metadata": {},
   "outputs": [
    {
     "name": "stdout",
     "output_type": "stream",
     "text": [
      "[[3.         3.         3.         0.01872565 0.52460384]\n",
      " [3.         3.         3.         0.         0.        ]\n",
      " [0.98924489 0.8818624  0.53633425 0.         0.        ]\n",
      " [0.99194567 0.66096447 0.18021304 0.91631645 0.22382144]\n",
      " [0.62730259 0.1250671  0.17493251 0.53251293 0.68937022]]\n",
      "\n",
      "[[-1.83843456 -0.53191667  0.81004922  0.61520781  1.54005593]\n",
      " [-0.13952177  0.86869515 -0.32003926 -1.16984612 -0.70826826]\n",
      " [-0.63920301  0.49328531 -0.53481833 -0.56665943 -0.74996549]\n",
      " [ 1.23551594 -0.32509051  0.0360156  -2.1544921   0.41092446]\n",
      " [-4.09786885  0.06614997 -0.56081793 -1.97681802  1.61724669]\n",
      " [ 0.6510299   1.00285711  0.07419135 -0.21801023  0.58343801]\n",
      " [-1.26834558  0.52460601 -0.12814393  0.80806384 -0.40342443]\n",
      " [ 2.20188858 -0.72986656 -1.7056969   1.13112775  0.5355598 ]\n",
      " [-0.77963068 -0.77712785 -0.9925865  -0.66728535 -1.30968025]\n",
      " [-1.09038537 -0.15108762  1.13078571 -0.4003506  -0.59723415]]\n"
     ]
    }
   ],
   "source": [
    "print(loaded_zip['rand_mat'])\n",
    "print('')\n",
    "print(loaded_zip['rand_mat2'])"
   ]
  },
  {
   "cell_type": "code",
   "execution_count": 40,
   "id": "88a440d1",
   "metadata": {},
   "outputs": [
    {
     "name": "stdout",
     "output_type": "stream",
     "text": [
      "[[3.         3.         3.         0.01872565 0.52460384]\n",
      " [3.         3.         3.         0.         0.        ]\n",
      " [0.98924489 0.8818624  0.53633425 0.         0.        ]\n",
      " [0.99194567 0.66096447 0.18021304 0.91631645 0.22382144]\n",
      " [0.62730259 0.1250671  0.17493251 0.53251293 0.68937022]]\n",
      "\n",
      "[[-1.83843456 -0.53191667  0.81004922  0.61520781  1.54005593]\n",
      " [-0.13952177  0.86869515 -0.32003926 -1.16984612 -0.70826826]\n",
      " [-0.63920301  0.49328531 -0.53481833 -0.56665943 -0.74996549]\n",
      " [ 1.23551594 -0.32509051  0.0360156  -2.1544921   0.41092446]\n",
      " [-4.09786885  0.06614997 -0.56081793 -1.97681802  1.61724669]\n",
      " [ 0.6510299   1.00285711  0.07419135 -0.21801023  0.58343801]\n",
      " [-1.26834558  0.52460601 -0.12814393  0.80806384 -0.40342443]\n",
      " [ 2.20188858 -0.72986656 -1.7056969   1.13112775  0.5355598 ]\n",
      " [-0.77963068 -0.77712785 -0.9925865  -0.66728535 -1.30968025]\n",
      " [-1.09038537 -0.15108762  1.13078571 -0.4003506  -0.59723415]]\n",
      "\n",
      "[[3.         3.         3.         0.01872565 0.52460384]\n",
      " [3.         3.         3.         0.         0.        ]\n",
      " [0.98924489 0.8818624  0.53633425 0.         0.        ]\n",
      " [0.99194567 0.66096447 0.18021304 0.91631645 0.22382144]\n",
      " [0.62730259 0.1250671  0.17493251 0.53251293 0.68937022]]\n"
     ]
    }
   ],
   "source": [
    "print(loaded_zip['rand_mat'])\n",
    "print('')\n",
    "print(loaded_zip['rand_mat2'])\n",
    "print('')\n",
    "\n",
    "new_array = loaded_zip['rand_mat']\n",
    "print(new_array)"
   ]
  },
  {
   "cell_type": "code",
   "execution_count": 41,
   "id": "461872e0",
   "metadata": {},
   "outputs": [],
   "source": [
    "# we can also save/load as text files... but only single variable\n",
    "# np.savetxt(p1,p2,p3) --> np.savetxt(file name from which you want to save, array which you want to save, delimeter)\n",
    "#  delimeter how we can seperate our numpy arrays it is by the delimiters for example by a comma ','\n",
    "\n",
    "np.savetxt('text_file_name.txt', rand_mat, delimiter = ',')\n",
    "rand_mat_txt = np.loadtxt('text_file_name.txt', delimiter = ',')"
   ]
  },
  {
   "cell_type": "code",
   "execution_count": 42,
   "id": "9017edbd",
   "metadata": {},
   "outputs": [
    {
     "name": "stdout",
     "output_type": "stream",
     "text": [
      "[[3.         3.         3.         0.01872565 0.52460384]\n",
      " [3.         3.         3.         0.         0.        ]\n",
      " [0.98924489 0.8818624  0.53633425 0.         0.        ]\n",
      " [0.99194567 0.66096447 0.18021304 0.91631645 0.22382144]\n",
      " [0.62730259 0.1250671  0.17493251 0.53251293 0.68937022]]\n",
      "\n",
      "[[3.         3.         3.         0.01872565 0.52460384]\n",
      " [3.         3.         3.         0.         0.        ]\n",
      " [0.98924489 0.8818624  0.53633425 0.         0.        ]\n",
      " [0.99194567 0.66096447 0.18021304 0.91631645 0.22382144]\n",
      " [0.62730259 0.1250671  0.17493251 0.53251293 0.68937022]]\n"
     ]
    }
   ],
   "source": [
    "print(rand_mat)\n",
    "print('')\n",
    "print(rand_mat_txt)"
   ]
  },
  {
   "cell_type": "code",
   "execution_count": null,
   "id": "6ed3a42e",
   "metadata": {},
   "outputs": [],
   "source": []
  }
 ],
 "metadata": {
  "kernelspec": {
   "display_name": "Python 3 (ipykernel)",
   "language": "python",
   "name": "python3"
  },
  "language_info": {
   "codemirror_mode": {
    "name": "ipython",
    "version": 3
   },
   "file_extension": ".py",
   "mimetype": "text/x-python",
   "name": "python",
   "nbconvert_exporter": "python",
   "pygments_lexer": "ipython3",
   "version": "3.11.3"
  }
 },
 "nbformat": 4,
 "nbformat_minor": 5
}
